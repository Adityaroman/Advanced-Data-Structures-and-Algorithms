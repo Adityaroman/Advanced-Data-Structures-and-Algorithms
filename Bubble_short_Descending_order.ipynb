{
 "cells": [
  {
   "cell_type": "code",
   "execution_count": 6,
   "id": "255f83d9-78bb-4550-97ab-198eab5f0d60",
   "metadata": {},
   "outputs": [
    {
     "name": "stdin",
     "output_type": "stream",
     "text": [
      "Enter the number of elements:  10\n",
      "Enter element:  2\n",
      "Enter element:  3\n",
      "Enter element:  6\n",
      "Enter element:  54\n",
      "Enter element:  68\n",
      "Enter element:  65\n",
      "Enter element:  5\n",
      "Enter element:  3\n",
      "Enter element:  4\n",
      "Enter element:  9\n"
     ]
    },
    {
     "name": "stdout",
     "output_type": "stream",
     "text": [
      "The sorted elements are:\n",
      "68 65 54 9 6 5 4 3 3 2 "
     ]
    }
   ],
   "source": [
    "def bubble_sort(lst):\n",
    "    size = len(lst)\n",
    "    for i in range(size - 1):\n",
    "        for j in range(size - 1 - i):\n",
    "            if lst[j] < lst[j + 1]:\n",
    "                lst[j], lst[j + 1] = lst[j + 1], lst[j]\n",
    "\n",
    "n = int(input(\"Enter the number of elements: \"))\n",
    "lst = []\n",
    "for i in range(n):\n",
    "    num = int(input(\"Enter element: \"))\n",
    "    lst.append(num)\n",
    "\n",
    "bubble_sort(lst)\n",
    "\n",
    "print(\"The sorted elements are:\")\n",
    "for i in lst:\n",
    "    print(i, end=\" \")"
   ]
  },
  {
   "cell_type": "code",
   "execution_count": null,
   "id": "240971b5-7d80-494c-979d-2009a2dfa0f2",
   "metadata": {},
   "outputs": [],
   "source": []
  }
 ],
 "metadata": {
  "kernelspec": {
   "display_name": "Python 3 (ipykernel)",
   "language": "python",
   "name": "python3"
  },
  "language_info": {
   "codemirror_mode": {
    "name": "ipython",
    "version": 3
   },
   "file_extension": ".py",
   "mimetype": "text/x-python",
   "name": "python",
   "nbconvert_exporter": "python",
   "pygments_lexer": "ipython3",
   "version": "3.11.7"
  }
 },
 "nbformat": 4,
 "nbformat_minor": 5
}
