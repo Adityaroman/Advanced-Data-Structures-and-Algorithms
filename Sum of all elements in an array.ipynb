{
 "cells": [
  {
   "cell_type": "code",
   "execution_count": 8,
   "id": "a589003c-2d0e-4ef5-a83e-a2e02046b883",
   "metadata": {},
   "outputs": [
    {
     "name": "stdout",
     "output_type": "stream",
     "text": [
      "45\n"
     ]
    }
   ],
   "source": [
    "import numpy as np\n",
    "x= np.array([1,2,3,4,5,6,7,8,9])\n",
    "def sum_array(x):\n",
    "    return np.sum(x)\n",
    "print(sum_array(x))\n"
   ]
  },
  {
   "cell_type": "code",
   "execution_count": 5,
   "id": "58d2f822-1cec-474a-89fd-13d38417fe0b",
   "metadata": {},
   "outputs": [
    {
     "name": "stdout",
     "output_type": "stream",
     "text": [
      "126\n"
     ]
    }
   ],
   "source": [
    "import numpy as np\n",
    "x=np.array([11,2,33,4,5,5,66])\n",
    "def arr_sum(x):\n",
    "    return np.sum(x)\n",
    "print(arr_sum(x))"
   ]
  },
  {
   "cell_type": "code",
   "execution_count": null,
   "id": "5624665c-8636-467d-bee3-c9492f50aff4",
   "metadata": {},
   "outputs": [],
   "source": []
  }
 ],
 "metadata": {
  "kernelspec": {
   "display_name": "Python 3 (ipykernel)",
   "language": "python",
   "name": "python3"
  },
  "language_info": {
   "codemirror_mode": {
    "name": "ipython",
    "version": 3
   },
   "file_extension": ".py",
   "mimetype": "text/x-python",
   "name": "python",
   "nbconvert_exporter": "python",
   "pygments_lexer": "ipython3",
   "version": "3.11.7"
  }
 },
 "nbformat": 4,
 "nbformat_minor": 5
}
