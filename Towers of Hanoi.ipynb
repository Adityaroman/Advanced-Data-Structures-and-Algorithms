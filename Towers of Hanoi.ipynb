{
 "cells": [
  {
   "cell_type": "code",
   "execution_count": 1,
   "id": "4513e24a-0a78-4518-a3d2-2ccfa6c18044",
   "metadata": {},
   "outputs": [
    {
     "name": "stdout",
     "output_type": "stream",
     "text": [
      "Move disk 1 from A to C\n",
      "Move disk 2 from A to B\n",
      "Move disk 1 from C to B\n",
      "Move disk 3 from A to C\n",
      "Move disk 1 from B to A\n",
      "Move disk 2 from B to C\n",
      "Move disk 1 from A to C\n"
     ]
    }
   ],
   "source": [
    "# Towers of Hanoi code\n",
    "def TOH(n, start, aux, end):\n",
    "    if n == 1:  # Base case: Move single disk\n",
    "        print(f\"Move disk {n} from {start} to {end}\")\n",
    "        return\n",
    "    TOH(n-1, start, end, aux)  # Move n-1 disks to auxiliary rod\n",
    "    print(f\"Move disk {n} from {start} to {end}\")  # Move largest disk\n",
    "    TOH(n-1, aux, start, end)  # Move n-1 disks to end rod\n",
    "\n",
    "# Test with 3 disks\n",
    "disc = 3\n",
    "TOH(disc, \"A\", \"B\", \"C\")"
   ]
  },
  {
   "cell_type": "code",
   "execution_count": null,
   "id": "52533b91-9bc9-4fd2-9b0d-6db27e76438e",
   "metadata": {},
   "outputs": [],
   "source": []
  }
 ],
 "metadata": {
  "kernelspec": {
   "display_name": "Python 3 (ipykernel)",
   "language": "python",
   "name": "python3"
  },
  "language_info": {
   "codemirror_mode": {
    "name": "ipython",
    "version": 3
   },
   "file_extension": ".py",
   "mimetype": "text/x-python",
   "name": "python",
   "nbconvert_exporter": "python",
   "pygments_lexer": "ipython3",
   "version": "3.11.7"
  }
 },
 "nbformat": 4,
 "nbformat_minor": 5
}
