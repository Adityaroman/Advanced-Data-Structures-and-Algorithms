{
 "cells": [
  {
   "cell_type": "markdown",
   "id": "10435838-3876-4657-8d65-eef8ee2c9915",
   "metadata": {},
   "source": [
    "### What is Recursion?\n",
    "Recursion is when a function calls itself to solve a smaller version of a problem until it reaches a simple, solvable point. It has two key parts:\n",
    "- **Base Case* if n == 1: return *: Stops the recursion.\n",
    "- **Recursive Case**: Calls itself with a reduced inp\n",
    "\n",
    "   1. Linear Recursion\n",
    "Definition: The function makes one recursive call per step.\n",
    "Example: Factorial\n",
    "ut."
   ]
  },
  {
   "cell_type": "code",
   "execution_count": null,
   "id": "ba9debac-658e-4410-ae92-a91a0a38e5de",
   "metadata": {},
   "outputs": [],
   "source": [
    "# Recursive Code: factorial(n)\n",
    "def factorial(n):\n",
    "    if n == 1:           # Base case\n",
    "        return 1\n",
    "    else:                # Recursive case\n",
    "        return n * factorial(n-1)\n",
    "\n",
    "print(factorial(5))  # Output: 120 (5 * 4 * 3 * 2 * 1)\n",
    "\n",
    "# Iterative Code: factorial_iterative(n)\n",
    "def factorial_iterative(n):\n",
    "    result = 1\n",
    "    for i in range(1, n+1):\n",
    "        result *= i\n",
    "    return result  # Return after loop completes\n",
    "\n",
    "print(factorial_iterative(6))  # Output: 720 (6 * 5 * 4 * 3 * 2 * 1)"
   ]
  }
 ],
 "metadata": {
  "kernelspec": {
   "display_name": "Python 3 (ipykernel)",
   "language": "python",
   "name": "python3"
  },
  "language_info": {
   "codemirror_mode": {
    "name": "ipython",
    "version": 3
   },
   "file_extension": ".py",
   "mimetype": "text/x-python",
   "name": "python",
   "nbconvert_exporter": "python",
   "pygments_lexer": "ipython3",
   "version": "3.11.7"
  }
 },
 "nbformat": 4,
 "nbformat_minor": 5
}
