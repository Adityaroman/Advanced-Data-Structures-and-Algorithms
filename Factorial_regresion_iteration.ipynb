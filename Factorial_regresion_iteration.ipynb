{
 "cells": [
  {
   "cell_type": "code",
   "execution_count": 8,
   "id": "86b8dc40-dce8-4e5d-9f30-aff3f7382071",
   "metadata": {},
   "outputs": [
    {
     "name": "stdout",
     "output_type": "stream",
     "text": [
      "120\n",
      "1\n"
     ]
    }
   ],
   "source": [
    "#Recursion\n",
    "def factorial(n):\n",
    "    if n == 1:\n",
    "        return 1\n",
    "    else:\n",
    "        return n*factorial(n-1)\n",
    "print(factorial(5))\n",
    "#iteration\n",
    "def factorial_iterative(n):\n",
    "    result = 1\n",
    "    for i in range(1,n+1):\n",
    "        result *=i\n",
    "        return result\n",
    "print(factorial_iterative(6))"
   ]
  },
  {
   "cell_type": "code",
   "execution_count": null,
   "id": "6611917e-5f2c-4a18-b137-372a06d69816",
   "metadata": {},
   "outputs": [],
   "source": [
    "def factorial(n):\n",
    "    if n == 1:  # Base case: when n is 1, return 1\n",
    "        return 1\n",
    "    else:\n",
    "        return n * factorial(n-1)  # Recursive call with n-1\n",
    "print(factorial(5))  # Output: 120\n"
   ]
  },
  {
   "cell_type": "code",
   "execution_count": null,
   "id": "9bc24d97-e8b2-4282-8137-0f94de3baff7",
   "metadata": {},
   "outputs": [],
   "source": [
    "def factorial_iterative(n):\n",
    "    result = 1\n",
    "    for i in range(1, n+1):  # Loop from 1 to n\n",
    "        result *= i  # Multiply result by current i\n",
    "        return result  # Return inside the loop (incorrect, should be outside)\n",
    "print(factorial_iterative(6))  # Output: 1 (Incorrect due to return placement)\n"
   ]
  },
  {
   "cell_type": "code",
   "execution_count": null,
   "id": "1b3638c2-3e66-4bf4-b977-8746592ed0fb",
   "metadata": {},
   "outputs": [],
   "source": [
    "def factorial_iterative(n):\n",
    "    result = 1\n",
    "    for i in range(1, n+1):\n",
    "        result *= i  # Multiply result by current i\n",
    "    return result  # Return after the loop completes\n",
    "print(factorial_iterative(6))  # Output: 720\n"
   ]
  }
 ],
 "metadata": {
  "kernelspec": {
   "display_name": "Python 3 (ipykernel)",
   "language": "python",
   "name": "python3"
  },
  "language_info": {
   "codemirror_mode": {
    "name": "ipython",
    "version": 3
   },
   "file_extension": ".py",
   "mimetype": "text/x-python",
   "name": "python",
   "nbconvert_exporter": "python",
   "pygments_lexer": "ipython3",
   "version": "3.11.7"
  }
 },
 "nbformat": 4,
 "nbformat_minor": 5
}
