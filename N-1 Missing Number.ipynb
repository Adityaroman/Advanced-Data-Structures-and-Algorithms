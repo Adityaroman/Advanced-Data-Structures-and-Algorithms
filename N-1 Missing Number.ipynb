{
 "cells": [
  {
   "cell_type": "code",
   "execution_count": 1,
   "id": "234b8930-4748-4d2e-99f5-d3c889bc3bf3",
   "metadata": {},
   "outputs": [
    {
     "name": "stdout",
     "output_type": "stream",
     "text": [
      "3\n"
     ]
    }
   ],
   "source": [
    "def find_missing_number(arr, n):\n",
    "    total_sum = n * (n + 1) // 2\n",
    "    array_sum = sum(arr)\n",
    "    return total_sum - array_sum\n",
    "\n",
    "arr = [1, 2, 4, 5]\n",
    "n = 5\n",
    "print(find_missing_number(arr, n))\n"
   ]
  },
  {
   "cell_type": "code",
   "execution_count": 3,
   "id": "820c9c94-7c4f-4afe-85cd-24fec25a1704",
   "metadata": {},
   "outputs": [
    {
     "name": "stdout",
     "output_type": "stream",
     "text": [
      "3\n"
     ]
    }
   ],
   "source": [
    "def find_missing_number(arr, n):\n",
    "    xor_full = 0\n",
    "    xor_array = 0\n",
    "    \n",
    "    for i in range(1, n + 1):\n",
    "        xor_full ^= i\n",
    "    \n",
    "    for num in arr:\n",
    "        xor_array ^= num\n",
    "    \n",
    "    return xor_full ^ xor_array\n",
    "\n",
    "arr = [1, 2, 4, 5]\n",
    "n = 5\n",
    "print(find_missing_number(arr, n))\n"
   ]
  },
  {
   "cell_type": "code",
   "execution_count": null,
   "id": "e308383c-ed7b-4ed9-95c3-8469220ab800",
   "metadata": {},
   "outputs": [],
   "source": []
  }
 ],
 "metadata": {
  "kernelspec": {
   "display_name": "Python 3 (ipykernel)",
   "language": "python",
   "name": "python3"
  },
  "language_info": {
   "codemirror_mode": {
    "name": "ipython",
    "version": 3
   },
   "file_extension": ".py",
   "mimetype": "text/x-python",
   "name": "python",
   "nbconvert_exporter": "python",
   "pygments_lexer": "ipython3",
   "version": "3.11.7"
  }
 },
 "nbformat": 4,
 "nbformat_minor": 5
}
