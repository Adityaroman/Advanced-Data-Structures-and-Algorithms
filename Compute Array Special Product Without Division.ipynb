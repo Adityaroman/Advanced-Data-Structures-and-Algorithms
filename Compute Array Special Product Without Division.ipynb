{
 "cells": [
  {
   "cell_type": "code",
   "execution_count": 2,
   "id": "d48e23c0-e391-4b70-80a6-31ebcbc692e3",
   "metadata": {},
   "outputs": [
    {
     "name": "stdout",
     "output_type": "stream",
     "text": [
      "Original Array: [1, 2, 3, 4, 5]\n",
      "Product Array: [120, 60, 40, 30, 24]\n"
     ]
    }
   ],
   "source": [
    "def productExceptSelf(arr):\n",
    "    # Step 1: Get the length of the input array\n",
    "    n = len(arr)\n",
    "    \n",
    "    # Step 2: Initialize the result list with 1's\n",
    "    res = [1] * n\n",
    "    \n",
    "    # Step 3: Iterate through the array to compute the product of all elements except the current one\n",
    "    for i in range(n):\n",
    "        # Step 4: Multiply the result at index i by the product of all elements except arr[i]\n",
    "        for j in range(n):\n",
    "            if i != j:\n",
    "                res[i] *= arr[j]\n",
    "    \n",
    "    # Step 5: Return the result list after processing all elements\n",
    "    return res\n",
    "\n",
    "# Input array\n",
    "arr = [1, 2, 3, 4, 5]\n",
    "\n",
    "# Display the original array\n",
    "print(\"Original Array:\", arr)\n",
    "\n",
    "# Calculate the special product array using the defined function\n",
    "result = productExceptSelf(arr)\n",
    "\n",
    "# Display the result array\n",
    "print(\"Product Array:\", result)\n"
   ]
  },
  {
   "cell_type": "code",
   "execution_count": null,
   "id": "e8f34f82-3103-41d5-9a9e-67c485c0616c",
   "metadata": {},
   "outputs": [],
   "source": []
  }
 ],
 "metadata": {
  "kernelspec": {
   "display_name": "Python 3 (ipykernel)",
   "language": "python",
   "name": "python3"
  },
  "language_info": {
   "codemirror_mode": {
    "name": "ipython",
    "version": 3
   },
   "file_extension": ".py",
   "mimetype": "text/x-python",
   "name": "python",
   "nbconvert_exporter": "python",
   "pygments_lexer": "ipython3",
   "version": "3.11.7"
  }
 },
 "nbformat": 4,
 "nbformat_minor": 5
}
