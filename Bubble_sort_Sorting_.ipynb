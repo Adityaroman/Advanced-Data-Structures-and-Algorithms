{
 "cells": [
  {
   "cell_type": "code",
   "execution_count": 3,
   "id": "18515afc-6ba7-4317-abbc-a68baf904c51",
   "metadata": {},
   "outputs": [
    {
     "ename": "SyntaxError",
     "evalue": "invalid syntax (1823766250.py, line 5)",
     "output_type": "error",
     "traceback": [
      "\u001b[1;36m  Cell \u001b[1;32mIn[3], line 5\u001b[1;36m\u001b[0m\n\u001b[1;33m    if list[j]>list[j+1];\u001b[0m\n\u001b[1;37m                        ^\u001b[0m\n\u001b[1;31mSyntaxError\u001b[0m\u001b[1;31m:\u001b[0m invalid syntax\n"
     ]
    }
   ],
   "source": [
    "def bubble_sort(list):\n",
    "    size = len(list)\n",
    "    for i in range(size-1):\n",
    "        for j in range(size-1):\n",
    "            if list[j]>list[j+1];\n",
    "\n",
    "            list[j]=list[j+1]\n",
    "            list[j+1]=temp\n",
    "n = int(input(\"Enter anumber of elements:\"))\n",
    "lst = []\n",
    "for i in range(n):\n",
    "    num=int(input(\"Enter elements:\"))\n",
    "    lst.append(num)\n",
    "bubble_sort(lst)\n",
    "print(\"The sorted elements are:\")\n",
    "for i in range(n):\n",
    "    print(lst[i],end=\" \")"
   ]
  },
  {
   "cell_type": "code",
   "execution_count": 7,
   "id": "43c117c8-1ee0-49aa-af27-a6390cf773cc",
   "metadata": {},
   "outputs": [
    {
     "name": "stdin",
     "output_type": "stream",
     "text": [
      "Enter the number of elements:  5\n",
      "Enter element:  2\n",
      "Enter element:  3\n",
      "Enter element:  6\n",
      "Enter element:  5\n",
      "Enter element:  8\n"
     ]
    },
    {
     "name": "stdout",
     "output_type": "stream",
     "text": [
      "The sorted elements are:\n",
      "2 3 5 6 8 "
     ]
    }
   ],
   "source": [
    "def bubble_sort(lst):  # Avoid using 'list' as variable name (it is a built-in function)\n",
    "    size = len(lst)\n",
    "    for i in range(size - 1):  # Outer loop for passes\n",
    "        for j in range(size - 1 - i):  # Inner loop for comparisons\n",
    "            if lst[j] > lst[j + 1]:  # Fix if condition syntax\n",
    "                lst[j], lst[j + 1] = lst[j + 1], lst[j]  # Swap elements\n",
    "\n",
    "# Taking input\n",
    "n = int(input(\"Enter the number of elements: \"))\n",
    "lst = []\n",
    "for i in range(n):\n",
    "    num = int(input(\"Enter element: \"))\n",
    "    lst.append(num)\n",
    "\n",
    "# Sorting using Bubble Sort\n",
    "bubble_sort(lst)\n",
    "\n",
    "# Printing sorted elements\n",
    "print(\"The sorted elements are:\")\n",
    "for i in lst:\n",
    "    print(i, end=\" \")\n"
   ]
  },
  {
   "cell_type": "code",
   "execution_count": null,
   "id": "9687aab9-107c-48b9-b3a7-855ddb5bcfba",
   "metadata": {},
   "outputs": [],
   "source": []
  }
 ],
 "metadata": {
  "kernelspec": {
   "display_name": "Python 3 (ipykernel)",
   "language": "python",
   "name": "python3"
  },
  "language_info": {
   "codemirror_mode": {
    "name": "ipython",
    "version": 3
   },
   "file_extension": ".py",
   "mimetype": "text/x-python",
   "name": "python",
   "nbconvert_exporter": "python",
   "pygments_lexer": "ipython3",
   "version": "3.11.7"
  }
 },
 "nbformat": 4,
 "nbformat_minor": 5
}
