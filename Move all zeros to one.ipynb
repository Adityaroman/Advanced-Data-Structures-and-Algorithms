{
 "cells": [
  {
   "cell_type": "code",
   "execution_count": 6,
   "id": "5748138d-8b1a-4d5f-a79b-5108c6e3ea8d",
   "metadata": {},
   "outputs": [
    {
     "name": "stdout",
     "output_type": "stream",
     "text": [
      "[1, 1, 1, 1]\n",
      "5\n",
      "[1, 1, 1, 1, 0, 0, 0, 0, 0]\n"
     ]
    }
   ],
   "source": [
    "a = [0,1,1,0,1,0,1,0,0]\n",
    "b=[]\n",
    "c=[]\n",
    "for i in a:\n",
    "    if i ==1:\n",
    "        b.append(i)\n",
    "    else:\n",
    "        if i !=1:\n",
    "            c.append(i)\n",
    "print(b)\n",
    "print(len(c))\n",
    "e=b+c\n",
    "print(e)"
   ]
  },
  {
   "cell_type": "code",
   "execution_count": 22,
   "id": "5296ab4c-c83d-4c99-944d-af6f209e9908",
   "metadata": {},
   "outputs": [
    {
     "name": "stdout",
     "output_type": "stream",
     "text": [
      "[1, 1, 1, 1, 1, 1]\n",
      "6\n",
      "[1, 1, 1, 1, 1, 1, 0, 0, 0, 0, 0, 0]\n"
     ]
    }
   ],
   "source": [
    "a = [1,1,0,1,1,0,1,0,1,0,0,0]\n",
    "b=[]\n",
    "c=[]\n",
    "for i in a[::-1]:\n",
    "    if i ==1:\n",
    "        b.append(i)\n",
    "    else:\n",
    "        if i !=1:\n",
    "            c.append(i)\n",
    "print(b)\n",
    "print(len(c))\n",
    "e=b+c\n",
    "print(e)"
   ]
  },
  {
   "cell_type": "code",
   "execution_count": null,
   "id": "1ab83afc-3c07-4e19-871b-d1b9bcaa8580",
   "metadata": {},
   "outputs": [],
   "source": []
  }
 ],
 "metadata": {
  "kernelspec": {
   "display_name": "Python 3 (ipykernel)",
   "language": "python",
   "name": "python3"
  },
  "language_info": {
   "codemirror_mode": {
    "name": "ipython",
    "version": 3
   },
   "file_extension": ".py",
   "mimetype": "text/x-python",
   "name": "python",
   "nbconvert_exporter": "python",
   "pygments_lexer": "ipython3",
   "version": "3.11.7"
  }
 },
 "nbformat": 4,
 "nbformat_minor": 5
}
