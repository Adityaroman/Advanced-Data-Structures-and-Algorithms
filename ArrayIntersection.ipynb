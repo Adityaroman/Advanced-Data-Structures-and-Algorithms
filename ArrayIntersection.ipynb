{
 "cells": [
  {
   "cell_type": "code",
   "execution_count": 10,
   "id": "d9e4d7a6-651a-437f-8ace-395dd430ab5c",
   "metadata": {},
   "outputs": [
    {
     "name": "stdout",
     "output_type": "stream",
     "text": [
      "[12, 26]\n"
     ]
    }
   ],
   "source": [
    "import numpy as np\n",
    "array1= [12,23,24,25,26,27]\n",
    "array2= [12,26,34,56,46,33]\n",
    "\n",
    "intersection = []\n",
    "for i in array1:\n",
    "    if i in array2:\n",
    "        intersection.append(i)\n",
    "print(intersection)\n",
    "        "
   ]
  },
  {
   "cell_type": "code",
   "execution_count": 30,
   "id": "98f42a94-4d58-48ef-b347-5bb36b92c661",
   "metadata": {},
   "outputs": [
    {
     "name": "stdout",
     "output_type": "stream",
     "text": [
      "{26, 12}\n"
     ]
    }
   ],
   "source": [
    "import numpy as np\n",
    "a1= [12,23,24,25,26,27]\n",
    "a2= [12,26,34,56,46,33]\n",
    "c=set(a1)\n",
    "d=set(a2)\n",
    "x= c.intersection(d)\n",
    "print(x)"
   ]
  },
  {
   "cell_type": "code",
   "execution_count": 12,
   "id": "3e299d58-ee9e-47c1-8fc2-b2c7dfaa9b13",
   "metadata": {},
   "outputs": [
    {
     "name": "stdout",
     "output_type": "stream",
     "text": [
      "[12, 26]\n"
     ]
    }
   ],
   "source": [
    "a= [12,23,24,25,26,27]\n",
    "b= [12,26,34,56,46,33]\n",
    "c = [i for i in a if i in b]\n",
    "print(c)"
   ]
  },
  {
   "cell_type": "code",
   "execution_count": 14,
   "id": "73ada5a0-2140-4cac-87de-e8a6a78575e8",
   "metadata": {},
   "outputs": [
    {
     "name": "stdout",
     "output_type": "stream",
     "text": [
      "[12, 26]\n"
     ]
    }
   ],
   "source": [
    "a= [12,23,24,25,26,27]\n",
    "b= [12,26,34,56,46,33]\n",
    "print([i for i in a if i in b])"
   ]
  },
  {
   "cell_type": "code",
   "execution_count": 26,
   "id": "1e92cb68-f823-4839-8380-3222590f25c2",
   "metadata": {},
   "outputs": [
    {
     "name": "stdout",
     "output_type": "stream",
     "text": [
      "[22, 33, 77]\n"
     ]
    }
   ],
   "source": [
    "import numpy as np\n",
    "a,b =np.array([22,33,55,66,77]),np.array([22,44,77,56,33])\n",
    "print([i for i in a if i in b])"
   ]
  },
  {
   "cell_type": "code",
   "execution_count": 38,
   "id": "e815eabf-eca2-46a8-bb33-8dcb4c592baa",
   "metadata": {},
   "outputs": [
    {
     "name": "stdout",
     "output_type": "stream",
     "text": [
      "[12 26]\n"
     ]
    }
   ],
   "source": [
    "import numpy as np\n",
    "x1= [12,23,24,25,26,27]\n",
    "x2= [12,26,34,56,46,33]\n",
    "def arr_common(x1,x2):\n",
    "    result = np.intersect1d(x1,x2)\n",
    "    return np.array(result)\n",
    "res = arr_common(x1,x2)\n",
    "print(res)\n",
    "\n"
   ]
  },
  {
   "cell_type": "code",
   "execution_count": 4,
   "id": "e260377c-ba74-45bd-af54-dc8153334908",
   "metadata": {},
   "outputs": [
    {
     "name": "stdout",
     "output_type": "stream",
     "text": [
      "[12, 26]\n"
     ]
    }
   ],
   "source": [
    "#WITHOUT USING ANY BUILD IN FUNCTION FIND COMMON ELEMENTS THE INTERSECTION OF BOTH ARRAY!\n",
    "x1 = [12, 23, 24, 25, 26, 27]\n",
    "x2 = [12, 26, 34, 56, 46, 33]\n",
    "\n",
    "common = []\n",
    "# Find common elements without duplicates\n",
    "for num in x1:\n",
    "    # Check if num exists in x2\n",
    "    in_x2 = False\n",
    "    for num2 in x2:\n",
    "        if num == num2:\n",
    "            in_x2 = True\n",
    "            break\n",
    "    if in_x2:\n",
    "        # Check if num is already in the common list\n",
    "        duplicate = False\n",
    "        for c in common:\n",
    "            if c == num:\n",
    "                duplicate = True\n",
    "                break\n",
    "        if not duplicate:\n",
    "            common.append(num)\n",
    "\n",
    "# Bubble sort to sort the common elements\n",
    "n = len(common)\n",
    "for i in range(n):\n",
    "    for j in range(0, n - i - 1):\n",
    "        if common[j] > common[j + 1]:\n",
    "            common[j], common[j + 1] = common[j + 1], common[j]\n",
    "\n",
    "print(common)"
   ]
  }
 ],
 "metadata": {
  "kernelspec": {
   "display_name": "Python 3 (ipykernel)",
   "language": "python",
   "name": "python3"
  },
  "language_info": {
   "codemirror_mode": {
    "name": "ipython",
    "version": 3
   },
   "file_extension": ".py",
   "mimetype": "text/x-python",
   "name": "python",
   "nbconvert_exporter": "python",
   "pygments_lexer": "ipython3",
   "version": "3.11.7"
  }
 },
 "nbformat": 4,
 "nbformat_minor": 5
}
