{
 "cells": [
  {
   "cell_type": "code",
   "execution_count": 1,
   "id": "3bb9c409-c7e5-4ee3-9dae-288c40994efc",
   "metadata": {},
   "outputs": [
    {
     "name": "stdin",
     "output_type": "stream",
     "text": [
      "Enter number of elements:  2\n",
      "Enter element:  33\n",
      "Enter element:  66\n",
      "Enter the searching element:  22\n"
     ]
    },
    {
     "name": "stdout",
     "output_type": "stream",
     "text": [
      "Element not found\n"
     ]
    }
   ],
   "source": [
    "#can perform in the sorted array only\n",
    "# Can perform in the sorted array only\n",
    "def binary_search(lst, key):\n",
    "    low = 0\n",
    "    high = len(lst) - 1\n",
    "    \n",
    "    while low <= high:\n",
    "        mid = (low + high) // 2  # Calculate middle index\n",
    "        if key == lst[mid]:  # If key found, return index\n",
    "            return mid\n",
    "        elif key < lst[mid]:  # If key is smaller, search in the left half\n",
    "            high = mid - 1\n",
    "        else:  # If key is larger, search in the right half\n",
    "            low = mid + 1\n",
    "    \n",
    "    return -1  # If key not found, return -1\n",
    "\n",
    "# Input section\n",
    "n = int(input('Enter number of elements: '))\n",
    "lst = []\n",
    "\n",
    "for i in range(n):\n",
    "    num = int(input(\"Enter element: \"))\n",
    "    lst.append(num)\n",
    "\n",
    "lst.sort()  # Ensure the list is sorted for binary search\n",
    "key = int(input(\"Enter the searching element: \"))\n",
    "\n",
    "# Perform binary search\n",
    "position = binary_search(lst, key)\n",
    "\n",
    "# Output result\n",
    "if position == -1:\n",
    "    print(\"Element not found\")\n",
    "else:\n",
    "    print(\"{} Element found at position {}\".format(key, position))\n"
   ]
  },
  {
   "cell_type": "code",
   "execution_count": null,
   "id": "8ba7f062-4a1a-49c0-8fca-54b1fd9635d5",
   "metadata": {},
   "outputs": [],
   "source": []
  }
 ],
 "metadata": {
  "kernelspec": {
   "display_name": "Python 3 (ipykernel)",
   "language": "python",
   "name": "python3"
  },
  "language_info": {
   "codemirror_mode": {
    "name": "ipython",
    "version": 3
   },
   "file_extension": ".py",
   "mimetype": "text/x-python",
   "name": "python",
   "nbconvert_exporter": "python",
   "pygments_lexer": "ipython3",
   "version": "3.11.7"
  }
 },
 "nbformat": 4,
 "nbformat_minor": 5
}
