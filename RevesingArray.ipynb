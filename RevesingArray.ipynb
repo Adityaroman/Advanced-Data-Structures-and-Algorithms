{
 "cells": [
  {
   "cell_type": "code",
   "execution_count": 2,
   "id": "42db8843-9433-45e9-9fde-94cf9557a71c",
   "metadata": {},
   "outputs": [
    {
     "name": "stdout",
     "output_type": "stream",
     "text": [
      "[5 4 8 7 2 5 3]\n"
     ]
    }
   ],
   "source": [
    "import numpy as np\n",
    "x = np.array([3,5,2,7,8,4,5])\n",
    "type(x)\n",
    "print(x[::-1]) #slicing method"
   ]
  },
  {
   "cell_type": "code",
   "execution_count": 4,
   "id": "d76f3ad9-e58b-4ab9-8c13-54f71d188be2",
   "metadata": {},
   "outputs": [
    {
     "name": "stdout",
     "output_type": "stream",
     "text": [
      "5\n",
      "4\n",
      "8\n",
      "7\n",
      "2\n",
      "5\n",
      "3\n"
     ]
    }
   ],
   "source": [
    "import numpy as np\n",
    "x = np.array([3,5,2,7,8,4,5,])\n",
    "n = len(x)\n",
    "for i in range (n-1,-1,-1):\n",
    "    print(x[i])"
   ]
  },
  {
   "cell_type": "code",
   "execution_count": 6,
   "id": "58a8620d-1b82-481f-ba16-48b2a2c3f137",
   "metadata": {},
   "outputs": [
    {
     "name": "stdout",
     "output_type": "stream",
     "text": [
      "[5, 4, 8, 7, 2, 5, 3]\n"
     ]
    }
   ],
   "source": [
    "import numpy as np\n",
    "x = np.array([3,5,2,7,8,4,5,])\n",
    "n=len(x)\n",
    "new_arr=[]\n",
    "for i in range(n-1,-1,-1):\n",
    "    new_arr.append(x[i])\n",
    "print(new_arr)\n"
   ]
  },
  {
   "cell_type": "code",
   "execution_count": 51,
   "id": "49df4672-6072-4374-a09d-5375bbb6fbf7",
   "metadata": {},
   "outputs": [
    {
     "name": "stdout",
     "output_type": "stream",
     "text": [
      "<class 'numpy.ndarray'>\n",
      "[3 3 4 5 6 7 7 7]\n"
     ]
    },
    {
     "data": {
      "text/plain": [
       "[3, 5, 2, 7, 8, 4]"
      ]
     },
     "execution_count": 51,
     "metadata": {},
     "output_type": "execute_result"
    }
   ],
   "source": [
    "import numpy as np\n",
    "\n",
    "def remove_duplicates(x):\n",
    "    new_arr=[]\n",
    "    for i in x:\n",
    "        if i not in new_arr:\n",
    "            new_arr.append(i)\n",
    "    return new_arr\n",
    "print(type(x))\n",
    "print(x)\n",
    "remove_duplicates(np.array([3,5,2,7,8,4,5,]))\n"
   ]
  },
  {
   "cell_type": "code",
   "execution_count": 24,
   "id": "8f8d0d4d-4c4a-4d06-88cf-1a8f7fff6e33",
   "metadata": {},
   "outputs": [
    {
     "data": {
      "text/plain": [
       "[3, 4, 5, 6, 7]"
      ]
     },
     "execution_count": 24,
     "metadata": {},
     "output_type": "execute_result"
    }
   ],
   "source": [
    "import numpy as np\n",
    "def rd(x):\n",
    "    na=[]\n",
    "    for i in x:\n",
    "        if i not in na:\n",
    "            na.append(i)\n",
    "    return na\n",
    "rd(np.array([3,3,4,5,6,7,7,7])) #if we not specify np.array means it is list"
   ]
  },
  {
   "cell_type": "code",
   "execution_count": 47,
   "id": "5c736625-44a0-4d76-94f4-7789f5f47ad3",
   "metadata": {},
   "outputs": [
    {
     "data": {
      "text/plain": [
       "array([3, 3, 4, 5, 6, 7, 7, 7])"
      ]
     },
     "execution_count": 47,
     "metadata": {},
     "output_type": "execute_result"
    }
   ],
   "source": [
    "import numpy as np\n",
    "\n",
    "def remove_duplicates(x):\n",
    "    unique_element = list(set(x))\n",
    "    return np.array(unique_element)\n",
    "(np.array([3,3,4,5,6,7,7,7]))"
   ]
  },
  {
   "cell_type": "code",
   "execution_count": 49,
   "id": "bffc8035-787a-43bd-ba6d-428a13739112",
   "metadata": {},
   "outputs": [
    {
     "name": "stdout",
     "output_type": "stream",
     "text": [
      "[3 4 5 6 7]\n"
     ]
    }
   ],
   "source": [
    "import numpy as np\n",
    "\n",
    "def remove_duplicates(x):\n",
    "    unique_element = list(set(x))  # Convert array to set to remove duplicates, then back to list\n",
    "    return np.array(unique_element)  # Convert back to NumPy array\n",
    "\n",
    "x = np.array([3, 3, 4, 5, 6, 7, 7, 7])  # Define NumPy array\n",
    "result = remove_duplicates(x)  # Call function to remove duplicates\n",
    "\n",
    "print(result)  # Print the output\n"
   ]
  },
  {
   "cell_type": "code",
   "execution_count": 58,
   "id": "ace51e3a-7856-422c-8f71-bfecca968a6a",
   "metadata": {},
   "outputs": [
    {
     "name": "stdout",
     "output_type": "stream",
     "text": [
      "2\n",
      "Element not found\n"
     ]
    }
   ],
   "source": [
    "import numpy as np\n",
    "\n",
    "def find_index(arr, element):\n",
    "    try:\n",
    "        unique_arr = np.unique(arr)  # Removes duplicates while preserving order\n",
    "        return np.where(unique_arr == element)[0][0]  # Finds index of element\n",
    "    except IndexError:\n",
    "        return \"Element not found\"\n",
    "\n",
    "# Example usage\n",
    "x = np.array([3, 3, 4, 5, 6, 7, 7, 7])\n",
    "print(find_index(x, 5))  # Output: 2\n",
    "print(find_index(x, 2))  # Output: Element not found\n"
   ]
  },
  {
   "cell_type": "code",
   "execution_count": 53,
   "id": "dbf3787d-5e45-4bb7-bcd2-0e8c633fc3ec",
   "metadata": {},
   "outputs": [
    {
     "name": "stdout",
     "output_type": "stream",
     "text": [
      "2\n",
      "Element not found\n"
     ]
    }
   ],
   "source": [
    "def find_index(lst, element):\n",
    "    try:\n",
    "        return lst.index(element)  # Find index of element\n",
    "    except ValueError:\n",
    "        return \"Element not found\"\n",
    "\n",
    "# Example usage\n",
    "numbers = [3, 5, 7, 9, 11]\n",
    "print(find_index(numbers, 7))  # Output: 2\n",
    "print(find_index(numbers, 4))  # Output: Element not found\n"
   ]
  },
  {
   "cell_type": "code",
   "execution_count": 60,
   "id": "aedcf9c5-2fbb-492a-8a5e-fdfad719d06a",
   "metadata": {},
   "outputs": [
    {
     "name": "stdout",
     "output_type": "stream",
     "text": [
      "2\n",
      "-1\n"
     ]
    }
   ],
   "source": [
    "def find_index(arr, element):\n",
    "    try:\n",
    "        return arr.index(element)  # Find the index of the element\n",
    "    except ValueError:  # Handles case when element is not found\n",
    "        return -1\n",
    "\n",
    "# Example usage\n",
    "numbers = [3, 5, 7, 9, 11]\n",
    "print(find_index(numbers, 7))  # Output: 2\n",
    "print(find_index(numbers, 4))  # Output: -1\n"
   ]
  },
  {
   "cell_type": "code",
   "execution_count": null,
   "id": "055858bd-b831-47b7-9ca8-caf6534d6938",
   "metadata": {},
   "outputs": [],
   "source": []
  }
 ],
 "metadata": {
  "kernelspec": {
   "display_name": "Python 3 (ipykernel)",
   "language": "python",
   "name": "python3"
  },
  "language_info": {
   "codemirror_mode": {
    "name": "ipython",
    "version": 3
   },
   "file_extension": ".py",
   "mimetype": "text/x-python",
   "name": "python",
   "nbconvert_exporter": "python",
   "pygments_lexer": "ipython3",
   "version": "3.11.7"
  }
 },
 "nbformat": 4,
 "nbformat_minor": 5
}
