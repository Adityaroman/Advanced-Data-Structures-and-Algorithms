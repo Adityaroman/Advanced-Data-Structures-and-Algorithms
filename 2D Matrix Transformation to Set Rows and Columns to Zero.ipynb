{
 "cells": [
  {
   "cell_type": "code",
   "execution_count": 4,
   "id": "1e60a008-4dcd-4ae0-a265-0979a8bca12b",
   "metadata": {},
   "outputs": [
    {
     "name": "stdout",
     "output_type": "stream",
     "text": [
      "[[1, 0, 1], [0, 0, 0], [1, 0, 1]]\n"
     ]
    }
   ],
   "source": [
    "# Transforming a 2D matrix according to the problem statement\n",
    "def transform(matrix):\n",
    "    rows, cols = len(matrix), len(matrix[0])\n",
    "    zero_positions = []\n",
    "\n",
    "    # Record positions of zeros\n",
    "    for i in range(rows):\n",
    "        for j in range(cols):\n",
    "            if matrix[i][j] == 0:\n",
    "                zero_positions.append((i, j))\n",
    "    \n",
    "    # Set corresponding rows and columns to zero\n",
    "    for r, c in zero_positions:\n",
    "        for j in range(cols):\n",
    "            matrix[r][j] = 0  # Zero entire row\n",
    "        for i in range(rows):\n",
    "            matrix[i][c] = 0  # Zero entire column\n",
    "\n",
    "    return matrix\n",
    "\n",
    "# Input matrix\n",
    "matrix = [\n",
    "    [1, 1, 1],\n",
    "    [1, 0, 1],\n",
    "    [1, 1, 1]\n",
    "]\n",
    "\n",
    "# Applying transformation and printing result\n",
    "transformed_matrix = transform(matrix)\n",
    "print(transformed_matrix)  # Output: [[1, 0, 1], [0, 0, 0], [1, 0, 1]]\n",
    "#Row and column containing the zero are completely set to zero."
   ]
  },
  {
   "cell_type": "code",
   "execution_count": null,
   "id": "9674b8e4-d71a-47ea-9e8c-e0e84e63b440",
   "metadata": {},
   "outputs": [],
   "source": []
  }
 ],
 "metadata": {
  "kernelspec": {
   "display_name": "Python 3 (ipykernel)",
   "language": "python",
   "name": "python3"
  },
  "language_info": {
   "codemirror_mode": {
    "name": "ipython",
    "version": 3
   },
   "file_extension": ".py",
   "mimetype": "text/x-python",
   "name": "python",
   "nbconvert_exporter": "python",
   "pygments_lexer": "ipython3",
   "version": "3.11.7"
  }
 },
 "nbformat": 4,
 "nbformat_minor": 5
}
