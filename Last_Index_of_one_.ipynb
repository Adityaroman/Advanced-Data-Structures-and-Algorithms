{
 "cells": [
  {
   "cell_type": "code",
   "execution_count": 1,
   "id": "ea4b9563-8445-4afa-bc3d-85323a6c48ad",
   "metadata": {},
   "outputs": [
    {
     "name": "stdout",
     "output_type": "stream",
     "text": [
      "9\n"
     ]
    }
   ],
   "source": [
    "a=[0,1,1,0,1,0,1,1,0,1] #if no one is there it will return (-1)\n",
    "id=-1\n",
    "for b in range(len(a)):\n",
    "    if a [b]== 1:\n",
    "        id=b\n",
    "print(id)\n"
   ]
  },
  {
   "cell_type": "code",
   "execution_count": 10,
   "id": "c68b79fa-d040-4181-b43f-9610c267c12d",
   "metadata": {},
   "outputs": [
    {
     "name": "stdout",
     "output_type": "stream",
     "text": [
      "Last Index o f one:  5\n"
     ]
    }
   ],
   "source": [
    "import numpy as np\n",
    "x = np.array([0,1,0,1,1,1,0])\n",
    "def last_occurence_1(x):\n",
    "    n = len(x)\n",
    "    index = -1\n",
    "    for i in range(n):\n",
    "       if x[i] == 1:\n",
    "           index = i\n",
    "    return index\n",
    "print(\"Last Index o f one: \", last_occurence_1(x))"
   ]
  },
  {
   "cell_type": "code",
   "execution_count": 19,
   "id": "70403d7f-1646-4fd2-8d02-9edf0dba3166",
   "metadata": {},
   "outputs": [
    {
     "name": "stdout",
     "output_type": "stream",
     "text": [
      "9\n"
     ]
    }
   ],
   "source": [
    "x = []\n",
    "for i in range(len(x)-1,-1,-1):\n",
    "    if x[i] == 1:\n",
    "        print(i)\n",
    "    break"
   ]
  },
  {
   "cell_type": "code",
   "execution_count": null,
   "id": "e3a5ed86-a644-4e97-be80-13368825df87",
   "metadata": {},
   "outputs": [],
   "source": []
  },
  {
   "cell_type": "code",
   "execution_count": null,
   "id": "728c8511-ed2e-425d-8837-331d55c1d998",
   "metadata": {},
   "outputs": [],
   "source": []
  }
 ],
 "metadata": {
  "kernelspec": {
   "display_name": "Python 3 (ipykernel)",
   "language": "python",
   "name": "python3"
  },
  "language_info": {
   "codemirror_mode": {
    "name": "ipython",
    "version": 3
   },
   "file_extension": ".py",
   "mimetype": "text/x-python",
   "name": "python",
   "nbconvert_exporter": "python",
   "pygments_lexer": "ipython3",
   "version": "3.11.7"
  }
 },
 "nbformat": 4,
 "nbformat_minor": 5
}
