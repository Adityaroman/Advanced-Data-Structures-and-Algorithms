{
 "cells": [
  {
   "cell_type": "markdown",
   "id": "10435838-3876-4657-8d65-eef8ee2c9915",
   "metadata": {},
   "source": [
    "### What is Recursion?\n",
    "Recursion is when a function calls itself to solve a smaller version of a problem until it reaches a simple, solvable point. It has two key parts:\n",
    "- **Base Case* if n == 1: return *: Stops the recursion.\n",
    "- **Recursive Case**: Calls itself with a reduced inp\n",
    "\n",
    "   1. Linear Recursion\n",
    "Definition: The function makes one recursive call per step.\n",
    "Example: Factorial\n",
    "ut."
   ]
  },
  {
   "cell_type": "code",
   "execution_count": null,
   "id": "ba9debac-658e-4410-ae92-a91a0a38e5de",
   "metadata": {},
   "outputs": [],
   "source": [
    "# Recursive Code: factorial(n)\n",
    "def factorial(n):\n",
    "    if n == 1:           # Base case\n",
    "        return 1\n",
    "    else:                # Recursive case\n",
    "        return n * factorial(n-1)\n",
    "\n",
    "print(factorial(5))  # Output: 120 (5 * 4 * 3 * 2 * 1)\n",
    "\n",
    "# Iterative Code: factorial_iterative(n)\n",
    "def factorial_iterative(n):\n",
    "    result = 1\n",
    "    for i in range(1, n+1):\n",
    "        result *= i\n",
    "    return result  # Return after loop completes\n",
    "\n",
    "print(factorial_iterative(6))  # Output: 720 (6 * 5 * 4 * 3 * 2 * 1)"
   ]
  },
  {
   "cell_type": "markdown",
   "id": "935ac6d0-c2e6-4221-8c0c-fff5980a2925",
   "metadata": {},
   "source": [
    "2. Binary recursion\n",
    "is a type of recursion where a function makes TWO recursive calls in each step. It's commonly used in problems that can be split into two smaller subproblems, like binary trees or divide-and-conquer algorithms."
   ]
  },
  {
   "cell_type": "code",
   "execution_count": null,
   "id": "a3ea2797-19c5-4f1e-b5ed-92c0ee21d5f2",
   "metadata": {},
   "outputs": [],
   "source": [
    "#Q. Example of binary recursion:-\n",
    "# Binary Recursion for Fibonacci\n",
    "def fib_rec(n):\n",
    "    if n <= 0:   # Base case: return 0 for 0 or negative\n",
    "        return 0\n",
    "    if n == 1:   # Base case: return 1 for n = 1\n",
    "        return 1\n",
    "    # Binary recursive case: two calls to fib_rec\n",
    "    return fib_rec(n-1) + fib_rec(n-2)   # Sum of previous two Fibonacci numbers\n",
    "\n",
    "# Test\n",
    "print(fib_rec(5))   # Output: 5 (sequence: 0, 1, 1, 2, 3, 5)\n",
    "\n",
    "# Iterative Fibonacci (Non-recursive)\n",
    "def fib_iter(n):\n",
    "    if n <= 0:   # Handle 0 or negative input\n",
    "        return 0\n",
    "    a, b = 0, 1\n",
    "    for _ in range(n):   # Loop n times\n",
    "        a, b = b, a + b   # Update to next Fibonacci number\n",
    "    return a\n",
    "\n",
    "# Test\n",
    "print(fib_iter(5))   # Output: 5 (sequence: 0, 1, 1, 2, 3, 5)\n"
   ]
  },
  {
   "cell_type": "markdown",
   "id": "ac274cee-e6f3-49ac-8501-defb6a4f6767",
   "metadata": {},
   "source": [
    "Recursive Fibonacci:-\n",
    "Time Complexity: O(2^n) — Exponential\n",
    "Iterative Fibonacci:-\n",
    "Time Complexity: O(n) — Linear\n",
    "Winner: The iterative version"
   ]
  },
  {
   "cell_type": "markdown",
   "id": "30f8aa79-7e13-4d2a-bcb4-e0027e5193a8",
   "metadata": {},
   "source": [
    "Recursive: Uses base case (n == 1) to stop and recursive case (n * factorial(n-1)) to build the solution.\n",
    "Iterative: Uses a loop to calculate the result directly, no recursion involved."
   ]
  },
  {
   "cell_type": "code",
   "execution_count": null,
   "id": "69d51917-b1f0-48cd-af16-624059b78ae4",
   "metadata": {},
   "outputs": [],
   "source": [
    "4. Mutual Recursion\n",
    "Definition: Two or more functions call each other recursively.\n",
    "Example: Even/Odd check"
   ]
  }
 ],
 "metadata": {
  "kernelspec": {
   "display_name": "Python 3 (ipykernel)",
   "language": "python",
   "name": "python3"
  },
  "language_info": {
   "codemirror_mode": {
    "name": "ipython",
    "version": 3
   },
   "file_extension": ".py",
   "mimetype": "text/x-python",
   "name": "python",
   "nbconvert_exporter": "python",
   "pygments_lexer": "ipython3",
   "version": "3.11.7"
  }
 },
 "nbformat": 4,
 "nbformat_minor": 5
}
