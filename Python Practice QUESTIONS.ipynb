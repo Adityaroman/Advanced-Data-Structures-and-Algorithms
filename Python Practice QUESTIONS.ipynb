{
 "cells": [
  {
   "cell_type": "markdown",
   "id": "588fe66f-88cf-4b52-9ba0-20b3a06a4f27",
   "metadata": {},
   "source": [
    "Q. Wap a program to multiply the adjacent elements."
   ]
  },
  {
   "cell_type": "code",
   "execution_count": 8,
   "id": "254d2c50-aeba-40c5-aea9-6d6af7544bb3",
   "metadata": {},
   "outputs": [
    {
     "name": "stdout",
     "output_type": "stream",
     "text": [
      "(10, 50, 120, 84)\n"
     ]
    }
   ],
   "source": [
    "numbers =(2,5,10,12,7)\n",
    "result = tuple(numbers[i]*numbers[i+1] for i in range(len(numbers)-1))\n",
    "print(result)\n"
   ]
  },
  {
   "cell_type": "code",
   "execution_count": 16,
   "id": "2d4906ff-672d-4e14-bb76-e456f4049e3c",
   "metadata": {},
   "outputs": [
    {
     "name": "stdout",
     "output_type": "stream",
     "text": [
      "[10, 50, 120, 84]\n",
      "(2, 5, 10, 12, 7)\n"
     ]
    }
   ],
   "source": [
    "a=(2,5,10,12,7)\n",
    "b=list(a)\n",
    "v=[]\n",
    "for i in range(len(b)-1):\n",
    "    c=b[i]*b[i+1]\n",
    "    v.append(c)\n",
    "print(v)\n",
    "#or\n",
    "# f=tuple(b)\n",
    "# print(f)"
   ]
  },
  {
   "cell_type": "markdown",
   "id": "cfff221c-80e4-4b43-baf8-675de6bb0349",
   "metadata": {},
   "source": [
    "Q. wap a program that takes a list of tuples and sorts the list of tuples in increasing order by the last element in each tuple."
   ]
  },
  {
   "cell_type": "code",
   "execution_count": 30,
   "id": "09c4570e-e1d4-4e71-9f4f-0dfe4fb86d62",
   "metadata": {},
   "outputs": [
    {
     "name": "stdout",
     "output_type": "stream",
     "text": [
      "Original List: [(2, 5), (1, 2), (4, 4), (2, 3)]\n",
      "Sorted List: [(1, 2), (2, 3), (4, 4), (2, 5)]\n"
     ]
    }
   ],
   "source": [
    "# Input: List of tuples\n",
    "L = [(2, 5), (1, 2), (4, 4), (2, 3)]\n",
    "\n",
    "# Sort the list of tuples by the last element in each tuple\n",
    "sorted_list = sorted(L, key=lambda x: x[-1])\n",
    "\n",
    "# Output the result\n",
    "print(\"Original List:\", L)\n",
    "print(\"Sorted List:\", sorted_list)\n"
   ]
  },
  {
   "cell_type": "code",
   "execution_count": 32,
   "id": "ef92a765-d8b3-4ba9-a0c1-88a65b6a642e",
   "metadata": {},
   "outputs": [
    {
     "name": "stdout",
     "output_type": "stream",
     "text": [
      "After sorting: [(1, 2), (2, 3), (4, 4), (2, 5)]\n"
     ]
    }
   ],
   "source": [
    "#OR\n",
    "# Input: List of tuples\n",
    "num = [(2, 5), (1, 2), (4, 4), (2, 3)]\n",
    "size = len(num)\n",
    "for i in range(0,size):\n",
    "    for j in range(0,size-i-1):\n",
    "        if num[j][1]>num[j+1][1]:\n",
    "            num[j],num[j+1]=num[j+1],num[j]\n",
    "print(\"After sorting:\", num)"
   ]
  },
  {
   "cell_type": "markdown",
   "id": "247ec2ed-b37e-4aea-97f8-366733f499d3",
   "metadata": {},
   "source": [
    "Q.Give A tuple lists the task is to write a problem to restrict the frequency of the first element of tuple values to at most k.\n",
    "[(2,3),(3,3)(1,4),(2,4),(2,5),(3,4),(1,4),(3,4),(4,7)]"
   ]
  },
  {
   "cell_type": "code",
   "execution_count": 35,
   "id": "259a2c55-69f3-482c-88f7-4234fbfd3e41",
   "metadata": {},
   "outputs": [
    {
     "name": "stdout",
     "output_type": "stream",
     "text": [
      "Filtered List: [(2, 3), (3, 3), (1, 4), (2, 4), (3, 4), (1, 4), (4, 7)]\n"
     ]
    }
   ],
   "source": [
    "# Input: List of tuples and maximum frequency k\n",
    "L = [(2, 3), (3, 3), (1, 4), (2, 4), (2, 5), (3, 4), (1, 4), (3, 4), (4, 7)]\n",
    "k = 2\n",
    "\n",
    "# Step 1: Create an empty dictionary to count occurrences\n",
    "count = {}\n",
    "\n",
    "# Step 2: Create an empty list to store the result\n",
    "result = []\n",
    "\n",
    "# Step 3: Loop through each tuple in the list\n",
    "for t in L:\n",
    "    # Get the first number of the tuple\n",
    "    first_element = t[0]\n",
    "    \n",
    "    # Check if the first element can still be added\n",
    "    # If it's not in the dictionary, assume it has 0 occurrences\n",
    "    if count.get(first_element, 0) < k:\n",
    "        result.append(t)  # Add the tuple to the result\n",
    "        # Update the count of the first element in the dictionary\n",
    "        count[first_element] = count.get(first_element, 0) + 1\n",
    "\n",
    "# Step 4: Print the result\n",
    "print(\"Filtered List:\", result)\n"
   ]
  },
  {
   "cell_type": "markdown",
   "id": "f1fd67ce-b3a0-455d-9b00-a4e6642bda3b",
   "metadata": {},
   "source": [
    "Q. Wap a program to add the elements in each row."
   ]
  },
  {
   "cell_type": "code",
   "execution_count": 5,
   "id": "87712a01-dab8-4d9c-b43e-135a6b0f579e",
   "metadata": {},
   "outputs": [
    {
     "name": "stdout",
     "output_type": "stream",
     "text": [
      "[ 6 15 24]\n"
     ]
    }
   ],
   "source": [
    "import numpy as np\r\n",
    "\r\n",
    "# Create a 2D array (matrix)\r\n",
    "matrix = np.array([[1, 2, 3],\r\n",
    "                   [4, 5, 6],\r\n",
    "                   [7, 8, 9]])\r\n",
    "\r\n",
    "# Sum the elements in each row\r\n",
    "row_sums = np.sum(matrix, axis=1)\r\n",
    "\r\n",
    "print(row_sums)"
   ]
  },
  {
   "cell_type": "code",
   "execution_count": 7,
   "id": "6e594086-1778-42c5-b5f4-5aa7a4ad2bd7",
   "metadata": {},
   "outputs": [
    {
     "name": "stdout",
     "output_type": "stream",
     "text": [
      "[120, 60, 40, 30, 24]\n"
     ]
    }
   ],
   "source": [
    "arr = [1,2,3,4,5]  #time complexity O(n) order of n\n",
    "n = len(arr)\n",
    "left = [1]*n\n",
    "right =[1]*n\n",
    "for i in range(1, n):\n",
    "    left[i] = left[i-1]*arr[i-1]\n",
    "for i in range(n - 2, -1, -1):\n",
    "    right[i] = right[i+1]*arr[i+1]\n",
    "prod_arr = [left[i]*right[i] for i in range(n)]\n",
    "print(prod_arr)"
   ]
  },
  {
   "cell_type": "code",
   "execution_count": 18,
   "id": "3cbf6777-1e90-478a-be43-72d18b2408cf",
   "metadata": {},
   "outputs": [
    {
     "name": "stdout",
     "output_type": "stream",
     "text": [
      "[0, 0, 0, 0, 0]\n"
     ]
    }
   ],
   "source": [
    "arr = [1,2,3,4,5]\n",
    "n=len(arr)\n",
    "total_product=1\n",
    "for num in arr:\n",
    "    total_product*=num\n",
    "prod_arr=[]\n",
    "for num in arr:\n",
    "    prod_arr.append(total_product%num)\n",
    "print(prod_arr)"
   ]
  },
  {
   "cell_type": "code",
   "execution_count": 20,
   "id": "a1cb4df0-cd20-49f6-8c56-12eac74cc0cb",
   "metadata": {},
   "outputs": [
    {
     "name": "stdout",
     "output_type": "stream",
     "text": [
      "[120, 60, 40, 30, 24]\n"
     ]
    }
   ],
   "source": [
    "arr = [1, 2, 3, 4, 5]\n",
    "n = len(arr)\n",
    "total_product = 1\n",
    "\n",
    "# Calculate the total product of the array\n",
    "for num in arr:\n",
    "    total_product *= num\n",
    "\n",
    "prod_arr = []\n",
    "# Calculate the product of all elements except the current one\n",
    "for num in arr:\n",
    "    prod_arr.append(total_product // num)  # Use integer division\n",
    "\n",
    "print(prod_arr)"
   ]
  },
  {
   "cell_type": "code",
   "execution_count": 4,
   "id": "64c82f2d-26c1-4f0b-a817-dc43f239ce8c",
   "metadata": {},
   "outputs": [
    {
     "name": "stdout",
     "output_type": "stream",
     "text": [
      "[120, 60, 40, 30, 24]\n"
     ]
    }
   ],
   "source": [
    "from functools import reduce \n",
    "from operator import mul\n",
    "a = [1,2,3,4,5]\n",
    "b=[]\n",
    "c=[]\n",
    "for i in a:\n",
    "    b.append(i)\n",
    "d = reduce(mul,b)\n",
    "for i in a:\n",
    "    v=d/i\n",
    "    f=int(v)\n",
    "    c.append(f)\n",
    "\n",
    "print(c)"
   ]
  },
  {
   "cell_type": "code",
   "execution_count": 10,
   "id": "4dd4c7c1-5bf1-4cae-86f4-e4737645b46d",
   "metadata": {},
   "outputs": [
    {
     "name": "stdout",
     "output_type": "stream",
     "text": [
      "[120, 60, 40, 30, 24]\n"
     ]
    }
   ],
   "source": [
    "from functools import reduce \n",
    "from operator import mul\n",
    "a = [1,2,3,4,5]\n",
    "result=[]\n",
    "for i in range (len(a)):\n",
    "     temp = a[:i]+a[i+1:]\n",
    "     result.append(reduce(mul, temp))\n",
    "print(result)"
   ]
  },
  {
   "cell_type": "code",
   "execution_count": null,
   "id": "79721830-8050-481a-83fd-f691d75bf42a",
   "metadata": {},
   "outputs": [],
   "source": []
  }
 ],
 "metadata": {
  "kernelspec": {
   "display_name": "Python 3 (ipykernel)",
   "language": "python",
   "name": "python3"
  },
  "language_info": {
   "codemirror_mode": {
    "name": "ipython",
    "version": 3
   },
   "file_extension": ".py",
   "mimetype": "text/x-python",
   "name": "python",
   "nbconvert_exporter": "python",
   "pygments_lexer": "ipython3",
   "version": "3.11.7"
  }
 },
 "nbformat": 4,
 "nbformat_minor": 5
}
