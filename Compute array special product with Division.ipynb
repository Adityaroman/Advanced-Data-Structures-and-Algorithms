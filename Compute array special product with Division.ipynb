{
 "cells": [
  {
   "cell_type": "code",
   "execution_count": 4,
   "id": "e5aaef2e-a7e5-4d7f-8c35-41befd5dc9a1",
   "metadata": {},
   "outputs": [
    {
     "name": "stdout",
     "output_type": "stream",
     "text": [
      "Original Array: [1 2 3 4 5]\n",
      "Product Array: [120, 60, 40, 30, 24]\n"
     ]
    }
   ],
   "source": [
    "import math\n",
    "import numpy as np\n",
    "\n",
    "def SpecialProduct_Division(arr):\n",
    "    # Step 1: Calculate the total product of all elements in the array\n",
    "    total_product = math.prod(arr)\n",
    "    \n",
    "    # Step 2: Create an empty list to store the results\n",
    "    res = []\n",
    "    \n",
    "    # Step 3: Iterate through each element in the array\n",
    "    for num in arr:\n",
    "        # Step 4: Append the quotient of total_product divided by the current element to the result list\n",
    "        res.append(total_product // num)\n",
    "    \n",
    "    # Step 5: Return the result list after processing all elements\n",
    "    return res\n",
    "\n",
    "# Input array\n",
    "arr = np.array([1, 2, 3, 4, 5])\n",
    "\n",
    "# Display the original array\n",
    "print(\"Original Array:\", arr)\n",
    "\n",
    "# Calculate the special product array using the defined function\n",
    "result = SpecialProduct_Division(arr)\n",
    "\n",
    "# Display the result array\n",
    "print(\"Product Array:\", result)\n"
   ]
  },
  {
   "cell_type": "code",
   "execution_count": null,
   "id": "8162804e-5cfa-4308-b5c1-4645af386c10",
   "metadata": {},
   "outputs": [],
   "source": []
  }
 ],
 "metadata": {
  "kernelspec": {
   "display_name": "Python 3 (ipykernel)",
   "language": "python",
   "name": "python3"
  },
  "language_info": {
   "codemirror_mode": {
    "name": "ipython",
    "version": 3
   },
   "file_extension": ".py",
   "mimetype": "text/x-python",
   "name": "python",
   "nbconvert_exporter": "python",
   "pygments_lexer": "ipython3",
   "version": "3.11.7"
  }
 },
 "nbformat": 4,
 "nbformat_minor": 5
}
