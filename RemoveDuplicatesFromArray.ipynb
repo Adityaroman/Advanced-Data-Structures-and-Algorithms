{
 "cells": [
  {
   "cell_type": "code",
   "execution_count": 16,
   "id": "4cf5fc2c-0445-4aab-9641-a4ac781fcadd",
   "metadata": {},
   "outputs": [
    {
     "data": {
      "text/plain": [
       "[3, 5, 2, 7, 8, 4]"
      ]
     },
     "execution_count": 16,
     "metadata": {},
     "output_type": "execute_result"
    }
   ],
   "source": [
    "import numpy as np\n",
    "\n",
    "def remove_duplicates(x):\n",
    "    new_arr=[]\n",
    "    for i in x:\n",
    "        if i not in new_arr:\n",
    "            new_arr.append(i)\n",
    "    return new_arr\n",
    "remove_duplicates(np.array([3,5,2,7,8,4,5,5,5]))\n"
   ]
  },
  {
   "cell_type": "code",
   "execution_count": 20,
   "id": "b6aa71e9-9bee-4cfb-8700-3888a1830c3d",
   "metadata": {},
   "outputs": [
    {
     "name": "stdout",
     "output_type": "stream",
     "text": [
      "[3 4 5 6 7]\n"
     ]
    }
   ],
   "source": [
    "import numpy as np\n",
    "\n",
    "def remove_duplicates(x):\n",
    "    unique_element = list(set(x))  # Convert array to set to remove duplicates, then back to list\n",
    "    return np.array(unique_element)  # Convert back to NumPy array\n",
    "\n",
    "x = np.array([3, 3, 4, 5, 6, 7, 7, 7])  # Define NumPy array\n",
    "result = remove_duplicates(x)  # Call function to remove duplicates\n",
    "\n",
    "print(result)  # Print the output\n"
   ]
  },
  {
   "cell_type": "code",
   "execution_count": null,
   "id": "24cad48e-6540-4cf8-b735-3bf1c6a97027",
   "metadata": {},
   "outputs": [],
   "source": []
  }
 ],
 "metadata": {
  "kernelspec": {
   "display_name": "Python 3 (ipykernel)",
   "language": "python",
   "name": "python3"
  },
  "language_info": {
   "codemirror_mode": {
    "name": "ipython",
    "version": 3
   },
   "file_extension": ".py",
   "mimetype": "text/x-python",
   "name": "python",
   "nbconvert_exporter": "python",
   "pygments_lexer": "ipython3",
   "version": "3.11.7"
  }
 },
 "nbformat": 4,
 "nbformat_minor": 5
}
