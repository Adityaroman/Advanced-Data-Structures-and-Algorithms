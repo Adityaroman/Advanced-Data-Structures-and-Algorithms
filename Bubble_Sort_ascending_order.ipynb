{
 "cells": [
  {
   "cell_type": "markdown",
   "id": "90eec7bf-366b-42a6-9d85-c396f494b091",
   "metadata": {},
   "source": [
    "bubble short ascending order (count and display the each element no. of times swapping)\n",
    "input: [10,20,30,20,10,0,40,70,20]"
   ]
  },
  {
   "cell_type": "code",
   "execution_count": null,
   "id": "496eae07-d36e-4366-b2b7-994607a8c20c",
   "metadata": {},
   "outputs": [],
   "source": [
    "def bubble_sort_with_swap_count(arr):\n",
    "    n = len(arr)\n",
    "    swap_count = {}  # Dictionary to store swap counts for each unique element\n",
    "    \n",
    "    # Initialize swap count for each element in the array\n",
    "    for num in arr:\n",
    "        if num not in swap_count:\n",
    "            swap_count[num] = 0\n",
    "    \n",
    "    # Bubble sort implementation\n",
    "    for i in range(n - 1):\n",
    "        for j in range(n - 1 - i):\n",
    "            if arr[j] > arr[j + 1]:\n",
    "                # Swap elements\n",
    "                arr[j], arr[j + 1] = arr[j + 1], arr[j]\n",
    "                # Increment swap count for both elements involved\n",
    "                swap_count[arr[j]] += 1\n",
    "                swap_count[arr[j + 1]] += 1\n",
    "    \n",
    "    return arr, swap_count\n",
    "\n",
    "# Input array\n",
    "arr = [10, 20, 30, 20, 10, 0, 40, 70, 20]\n",
    "\n",
    "# Perform sorting and get swap counts\n",
    "sorted_arr, swap_count = bubble_sort_with_swap_count(arr)\n",
    "\n",
    "# Display results\n",
    "print(\"Original array:\", [10, 20, 30, 20, 10, 0, 40, 70, 20])\n",
    "print(\"Sorted array:\", sorted_arr)\n",
    "print(\"Number of swaps for each element:\")\n",
    "for num, count in swap_count.items():\n",
    "    print(f\"Element {num}: {count} swaps\")"
   ]
  },
  {
   "cell_type": "code",
   "execution_count": 1,
   "id": "9c91547b-403b-44bd-ab62-4c73656b9a76",
   "metadata": {},
   "outputs": [
    {
     "name": "stdout",
     "output_type": "stream",
     "text": [
      "Original array: [10, 20, 30, 20, 10, 0, 40, 70, 20]\n",
      "Sorted array: [0, 10, 10, 20, 20, 20, 30, 40, 70]\n",
      "Number of swaps for each element:\n",
      "Element 10: 5 swaps\n",
      "Element 20: 8 swaps\n",
      "Element 30: 4 swaps\n",
      "Element 0: 5 swaps\n",
      "Element 40: 1 swaps\n",
      "Element 70: 1 swaps\n"
     ]
    }
   ],
   "source": [
    "def bubble_sort_with_swap_count(arr):\n",
    "    n = len(arr)\n",
    "    swap_count = {}  # Dictionary to store swap counts for each unique element\n",
    "    \n",
    "    # Initialize swap count for each element in the array\n",
    "    for num in arr:\n",
    "        if num not in swap_count:\n",
    "            swap_count[num] = 0\n",
    "    \n",
    "    # Bubble sort implementation\n",
    "    for i in range(n - 1):\n",
    "        for j in range(n - 1 - i):\n",
    "            if arr[j] > arr[j + 1]:\n",
    "                # Swap elements\n",
    "                arr[j], arr[j + 1] = arr[j + 1], arr[j]\n",
    "                # Increment swap count for both elements involved\n",
    "                swap_count[arr[j]] += 1\n",
    "                swap_count[arr[j + 1]] += 1\n",
    "    \n",
    "    return arr, swap_count\n",
    "\n",
    "# Input array\n",
    "arr = [10, 20, 30, 20, 10, 0, 40, 70, 20]\n",
    "\n",
    "# Perform sorting and get swap counts\n",
    "sorted_arr, swap_count = bubble_sort_with_swap_count(arr)\n",
    "\n",
    "# Display results\n",
    "print(\"Original array:\", [10, 20, 30, 20, 10, 0, 40, 70, 20])\n",
    "print(\"Sorted array:\", sorted_arr)\n",
    "print(\"Number of swaps for each element:\")\n",
    "for num, count in swap_count.items():\n",
    "    print(f\"Element {num}: {count} swaps\")"
   ]
  },
  {
   "cell_type": "code",
   "execution_count": null,
   "id": "3cc6981b-412c-4c04-868c-648a19b3d9e4",
   "metadata": {},
   "outputs": [],
   "source": []
  }
 ],
 "metadata": {
  "kernelspec": {
   "display_name": "Python 3 (ipykernel)",
   "language": "python",
   "name": "python3"
  },
  "language_info": {
   "codemirror_mode": {
    "name": "ipython",
    "version": 3
   },
   "file_extension": ".py",
   "mimetype": "text/x-python",
   "name": "python",
   "nbconvert_exporter": "python",
   "pygments_lexer": "ipython3",
   "version": "3.11.7"
  }
 },
 "nbformat": 4,
 "nbformat_minor": 5
}
