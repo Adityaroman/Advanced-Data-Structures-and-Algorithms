{
 "cells": [
  {
   "cell_type": "code",
   "execution_count": 1,
   "id": "22540ac1-f013-4460-916a-68c96bfdff0c",
   "metadata": {},
   "outputs": [
    {
     "name": "stdout",
     "output_type": "stream",
     "text": [
      "3\n"
     ]
    }
   ],
   "source": [
    "a = [10,20,30,40,50]\n",
    "target = 40\n",
    "index = 0\n",
    "while index < len(a):\n",
    "    if a[index] == target:\n",
    "        print(index)\n",
    "        break\n",
    "    index += 1"
   ]
  },
  {
   "cell_type": "code",
   "execution_count": 15,
   "id": "3710f160-3259-4a19-852f-76826be651d8",
   "metadata": {},
   "outputs": [
    {
     "name": "stdin",
     "output_type": "stream",
     "text": [
      "Enter number of elements: 5\n",
      "Enter elements: 55\n",
      "Enter elements: 66\n",
      "Enter elements: 33\n",
      "Enter elements: 22\n",
      "Enter elements: 11\n",
      "Enter the searching elements: 11\n"
     ]
    },
    {
     "ename": "TypeError",
     "evalue": "object of type 'type' has no len()",
     "output_type": "error",
     "traceback": [
      "\u001b[1;31m---------------------------------------------------------------------------\u001b[0m",
      "\u001b[1;31mTypeError\u001b[0m                                 Traceback (most recent call last)",
      "Cell \u001b[1;32mIn[15], line 15\u001b[0m\n\u001b[0;32m     13\u001b[0m     lst\u001b[38;5;241m.\u001b[39mappend(num)\n\u001b[0;32m     14\u001b[0m key \u001b[38;5;241m=\u001b[39m \u001b[38;5;28mint\u001b[39m(\u001b[38;5;28minput\u001b[39m(\u001b[38;5;124m\"\u001b[39m\u001b[38;5;124mEnter the searching elements:\u001b[39m\u001b[38;5;124m\"\u001b[39m))\n\u001b[1;32m---> 15\u001b[0m position\u001b[38;5;241m=\u001b[39mlinear_search(\u001b[38;5;28mlist\u001b[39m,key)\n\u001b[0;32m     16\u001b[0m \u001b[38;5;28;01mif\u001b[39;00m position \u001b[38;5;241m==\u001b[39m \u001b[38;5;241m-\u001b[39m\u001b[38;5;241m1\u001b[39m:\n\u001b[0;32m     17\u001b[0m     \u001b[38;5;28mprint\u001b[39m(\u001b[38;5;124m\"\u001b[39m\u001b[38;5;124mElement not found\u001b[39m\u001b[38;5;124m\"\u001b[39m)\n",
      "Cell \u001b[1;32mIn[15], line 2\u001b[0m, in \u001b[0;36mlinear_search\u001b[1;34m(list, key)\u001b[0m\n\u001b[0;32m      1\u001b[0m \u001b[38;5;28;01mdef\u001b[39;00m \u001b[38;5;21mlinear_search\u001b[39m(\u001b[38;5;28mlist\u001b[39m,key):\n\u001b[1;32m----> 2\u001b[0m     size \u001b[38;5;241m=\u001b[39m \u001b[38;5;28mlen\u001b[39m(\u001b[38;5;28mlist\u001b[39m)\n\u001b[0;32m      3\u001b[0m     index \u001b[38;5;241m=\u001b[39m \u001b[38;5;241m0\u001b[39m\n\u001b[0;32m      4\u001b[0m     \u001b[38;5;28;01mwhile\u001b[39;00m index \u001b[38;5;241m<\u001b[39m size:\n",
      "\u001b[1;31mTypeError\u001b[0m: object of type 'type' has no len()"
     ]
    }
   ],
   "source": [
    "def linear_search(list,key):\n",
    "    size = len(list)\n",
    "    index = 0\n",
    "    while index < size:\n",
    "        if list [index]==key:\n",
    "            return index\n",
    "            index=index+1\n",
    "        return -1\n",
    "n = int(input('Enter number of elements:'))\n",
    "lst =[]\n",
    "for i in range (n):\n",
    "    num = int(input(\"Enter elements:\"))\n",
    "    lst.append(num)\n",
    "key = int(input(\"Enter the searching elements:\"))\n",
    "position=linear_search(list,key)\n",
    "if position == -1:\n",
    "    print(\"Element not found\")\n",
    "else:\n",
    "    print(\"{} Element found at position {}\".formate(key,position))\n",
    "    \n",
    "    "
   ]
  },
  {
   "cell_type": "code",
   "execution_count": 25,
   "id": "4518de0b-251e-4edd-862c-a3cedba7187a",
   "metadata": {},
   "outputs": [
    {
     "name": "stdin",
     "output_type": "stream",
     "text": [
      "Enter number of elements:  3\n",
      "Enter element:  55\n",
      "Enter element:  66\n",
      "Enter element:  33\n",
      "Enter the searching element:  44\n"
     ]
    },
    {
     "name": "stdout",
     "output_type": "stream",
     "text": [
      "Element not found\n"
     ]
    }
   ],
   "source": [
    "def linear_search(lst, key):  # Use lst instead of list (list is a built-in keyword)\n",
    "    size = len(lst)\n",
    "    index = 0\n",
    "    while index < size:\n",
    "        if lst[index] == key:\n",
    "            return index  # If found, return index\n",
    "        index = index + 1  # Increment index outside if condition\n",
    "    return -1  # Return -1 if not found\n",
    "\n",
    "n = int(input('Enter number of elements: '))\n",
    "lst = []\n",
    "for i in range(n):\n",
    "    num = int(input(\"Enter element: \"))\n",
    "    lst.append(num)\n",
    "\n",
    "key = int(input(\"Enter the searching element: \"))\n",
    "position = linear_search(lst, key)  # Pass lst instead of list\n",
    "\n",
    "if position == -1:\n",
    "    print(\"Element not found\")\n",
    "else:\n",
    "    print(\"{} Element found at position {}\".format(key, position))\n",
    "\n"
   ]
  },
  {
   "cell_type": "code",
   "execution_count": null,
   "id": "c4f98290-ec9d-4056-a467-5f69e6f3d1f0",
   "metadata": {},
   "outputs": [],
   "source": []
  }
 ],
 "metadata": {
  "kernelspec": {
   "display_name": "Python 3 (ipykernel)",
   "language": "python",
   "name": "python3"
  },
  "language_info": {
   "codemirror_mode": {
    "name": "ipython",
    "version": 3
   },
   "file_extension": ".py",
   "mimetype": "text/x-python",
   "name": "python",
   "nbconvert_exporter": "python",
   "pygments_lexer": "ipython3",
   "version": "3.11.7"
  }
 },
 "nbformat": 4,
 "nbformat_minor": 5
}
