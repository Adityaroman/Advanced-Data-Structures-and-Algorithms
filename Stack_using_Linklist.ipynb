{
 "cells": [
  {
   "cell_type": "code",
   "execution_count": 3,
   "id": "ed55e851-8b66-4ae5-aa01-ff0a0b7e5098",
   "metadata": {},
   "outputs": [
    {
     "name": "stdout",
     "output_type": "stream",
     "text": [
      "\n",
      "Program to implement stack using linked list\n",
      "1. Push\n",
      "2. Pop\n",
      "3. Peek\n",
      "4. Display\n",
      "5. Exit\n"
     ]
    },
    {
     "name": "stdin",
     "output_type": "stream",
     "text": [
      "Enter your choice:  1\n",
      "Enter the data:  22\n"
     ]
    },
    {
     "name": "stdout",
     "output_type": "stream",
     "text": [
      "\n",
      "Program to implement stack using linked list\n",
      "1. Push\n",
      "2. Pop\n",
      "3. Peek\n",
      "4. Display\n",
      "5. Exit\n"
     ]
    },
    {
     "name": "stdin",
     "output_type": "stream",
     "text": [
      "Enter your choice:  1\n",
      "Enter the data:  33\n"
     ]
    },
    {
     "name": "stdout",
     "output_type": "stream",
     "text": [
      "\n",
      "Program to implement stack using linked list\n",
      "1. Push\n",
      "2. Pop\n",
      "3. Peek\n",
      "4. Display\n",
      "5. Exit\n"
     ]
    },
    {
     "name": "stdin",
     "output_type": "stream",
     "text": [
      "Enter your choice:  2\n"
     ]
    },
    {
     "name": "stdout",
     "output_type": "stream",
     "text": [
      "Popped element: 33\n",
      "\n",
      "Program to implement stack using linked list\n",
      "1. Push\n",
      "2. Pop\n",
      "3. Peek\n",
      "4. Display\n",
      "5. Exit\n"
     ]
    },
    {
     "name": "stdin",
     "output_type": "stream",
     "text": [
      "Enter your choice:  4\n"
     ]
    },
    {
     "name": "stdout",
     "output_type": "stream",
     "text": [
      "22\n",
      "\n",
      "Program to implement stack using linked list\n",
      "1. Push\n",
      "2. Pop\n",
      "3. Peek\n",
      "4. Display\n",
      "5. Exit\n"
     ]
    },
    {
     "name": "stdin",
     "output_type": "stream",
     "text": [
      "Enter your choice:  4\n"
     ]
    },
    {
     "name": "stdout",
     "output_type": "stream",
     "text": [
      "22\n",
      "\n",
      "Program to implement stack using linked list\n",
      "1. Push\n",
      "2. Pop\n",
      "3. Peek\n",
      "4. Display\n",
      "5. Exit\n"
     ]
    },
    {
     "name": "stdin",
     "output_type": "stream",
     "text": [
      "Enter your choice:  3\n"
     ]
    },
    {
     "name": "stdout",
     "output_type": "stream",
     "text": [
      "Top element: 22\n",
      "\n",
      "Program to implement stack using linked list\n",
      "1. Push\n",
      "2. Pop\n",
      "3. Peek\n",
      "4. Display\n",
      "5. Exit\n"
     ]
    },
    {
     "name": "stdin",
     "output_type": "stream",
     "text": [
      "Enter your choice:  5\n"
     ]
    },
    {
     "name": "stdout",
     "output_type": "stream",
     "text": [
      "Quitting!!!\n"
     ]
    }
   ],
   "source": [
    "# Node class for stack\n",
    "class StackNode:\n",
    "    def __init__(self, NewData, link=None):\n",
    "        self.data = NewData\n",
    "        self.next = link\n",
    "\n",
    "# Stack class\n",
    "class Stack:\n",
    "    def __init__(self):\n",
    "        self.top = None\n",
    "    \n",
    "    # Check if stack is empty\n",
    "    def isempty(self):\n",
    "        return self.top is None\n",
    "    \n",
    "    # Get top element without removing it\n",
    "    def peek(self):\n",
    "        if self.isempty():\n",
    "            return \"Stack is empty\"\n",
    "        return self.top.data\n",
    "    \n",
    "    # Remove and return top element\n",
    "    def pop(self):\n",
    "        if self.isempty():\n",
    "            return \"Stack underflow!!!\"\n",
    "        node = self.top\n",
    "        self.top = self.top.next\n",
    "        return node.data\n",
    "    \n",
    "    # Add new element to stack\n",
    "    def push(self, NewData):\n",
    "        self.top = StackNode(NewData, self.top)\n",
    "    \n",
    "    # Display all elements in stack\n",
    "    def display(self):\n",
    "        curNode = self.top\n",
    "        if curNode is None:\n",
    "            print(\"Stack is empty\")\n",
    "            return\n",
    "        while curNode is not None:\n",
    "            print(curNode.data)\n",
    "            curNode = curNode.next\n",
    "\n",
    "# Main program\n",
    "s = Stack()\n",
    "while True:\n",
    "    print(\"\\nProgram to implement stack using linked list\")\n",
    "    print(\"1. Push\")\n",
    "    print(\"2. Pop\")\n",
    "    print(\"3. Peek\")\n",
    "    print(\"4. Display\")\n",
    "    print(\"5. Exit\")\n",
    "    \n",
    "    choice = int(input(\"Enter your choice: \"))\n",
    "    \n",
    "    if choice == 1:\n",
    "        num = int(input(\"Enter the data: \"))\n",
    "        s.push(num)\n",
    "    elif choice == 2:\n",
    "        result = s.pop()\n",
    "        print(\"Popped element:\", result)\n",
    "    elif choice == 3:\n",
    "        result = s.peek()\n",
    "        print(\"Top element:\", result)\n",
    "    elif choice == 4:\n",
    "        s.display()\n",
    "    elif choice == 5:\n",
    "        print(\"Quitting!!!\")\n",
    "        break\n",
    "    else:\n",
    "        print(\"Invalid choice! Enter a number between 1-5.\")\n"
   ]
  },
  {
   "cell_type": "code",
   "execution_count": null,
   "id": "2a571c2c-89af-4a8d-a686-34845008f369",
   "metadata": {},
   "outputs": [],
   "source": []
  }
 ],
 "metadata": {
  "kernelspec": {
   "display_name": "Python 3 (ipykernel)",
   "language": "python",
   "name": "python3"
  },
  "language_info": {
   "codemirror_mode": {
    "name": "ipython",
    "version": 3
   },
   "file_extension": ".py",
   "mimetype": "text/x-python",
   "name": "python",
   "nbconvert_exporter": "python",
   "pygments_lexer": "ipython3",
   "version": "3.11.7"
  }
 },
 "nbformat": 4,
 "nbformat_minor": 5
}
