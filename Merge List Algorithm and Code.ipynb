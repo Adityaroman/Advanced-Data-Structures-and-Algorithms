{
 "cells": [
  {
   "cell_type": "code",
   "execution_count": null,
   "id": "c0499c40-097a-4e01-af13-322ab53eebdf",
   "metadata": {},
   "outputs": [],
   "source": [
    "### **Merge Sort Algorithm**  \n",
    "1. **Divide:**  \n",
    "   - If the list has more than one element:  \n",
    "     - Find the middle of the list.  \n",
    "     - Divide the list into two halves.  \n",
    "\n",
    "2. **Conquer:**  \n",
    "   - Recursively apply merge sort on both halves.  \n",
    "\n",
    "3. **Combine:**  \n",
    "   - Merge the two sorted halves using the `merge()` function.  \n",
    "\n",
    "---\n",
    "\n",
    "### **Merge Function Algorithm**  \n",
    "**mergeList(arr, left, mid, mid + 1, right):**  \n",
    "1. Create an empty list `temp`.  \n",
    "2. Set `i = left`.  \n",
    "3. Set `j = mid + 1`.  \n",
    "4. While `i <= mid` and `j <= right`:  \n",
    "   - If `arr[i] <= arr[j]`:  \n",
    "     - Append `arr[i]` to `temp`.  \n",
    "     - Set `i = i + 1`.  \n",
    "   - Else:  \n",
    "     - Append `arr[j]` to `temp`.  \n",
    "     - Set `j = j + 1`.  \n",
    "5. While `i <= mid`:  \n",
    "   - Append `arr[i]` to `temp`.  \n",
    "   - Set `i = i + 1`.  \n",
    "6. While `j <= right`:  \n",
    "   - Append `arr[j]` to `temp`.  \n",
    "   - Set `j = j + 1`.  \n",
    "7. Copy elements from `temp` back to `arr` from `left` to `right`.  \n",
    "\n",
    "--"
   ]
  },
  {
   "cell_type": "code",
   "execution_count": 3,
   "id": "b281ea69-4247-4966-8709-b2912a7733fb",
   "metadata": {},
   "outputs": [
    {
     "name": "stdin",
     "output_type": "stream",
     "text": [
      "Enter number of elements:  5\n",
      "Enter element:  6\n",
      "Enter element:  3\n",
      "Enter element:  5\n",
      "Enter element:  9\n",
      "Enter element:  8\n"
     ]
    },
    {
     "name": "stdout",
     "output_type": "stream",
     "text": [
      "Original Array: [6, 3, 5, 9, 8]\n",
      "Sorted Array: [3, 5, 6, 8, 9]\n"
     ]
    }
   ],
   "source": [
    "# Function to merge two sorted halves\n",
    "def mergeList(arr, left, mid, right):\n",
    "    temp = []\n",
    "    i, j = left, mid + 1\n",
    "    \n",
    "    # Merge elements from both halves\n",
    "    while i <= mid and j <= right:\n",
    "        if arr[i] <= arr[j]:\n",
    "            temp.append(arr[i])\n",
    "            i += 1\n",
    "        else:\n",
    "            temp.append(arr[j])\n",
    "            j += 1\n",
    "    \n",
    "    # Add remaining elements from left half\n",
    "    while i <= mid:\n",
    "        temp.append(arr[i])\n",
    "        i += 1\n",
    "    \n",
    "    # Add remaining elements from right half\n",
    "    while j <= right:\n",
    "        temp.append(arr[j])\n",
    "        j += 1\n",
    "    \n",
    "    # Copy merged elements back to original array\n",
    "    for k in range(len(temp)):\n",
    "        arr[left + k] = temp[k]\n",
    "\n",
    "# Function to perform merge sort\n",
    "def mergeSort(arr, left, right):\n",
    "    if left < right:\n",
    "        mid = (left + right) // 2\n",
    "        \n",
    "        # Recursively divide and sort\n",
    "        mergeSort(arr, left, mid)\n",
    "        mergeSort(arr, mid + 1, right)\n",
    "        \n",
    "        # Merge sorted halves\n",
    "        mergeList(arr, left, mid, right)\n",
    "\n",
    "# Input and test sorting\n",
    "n = int(input(\"Enter number of elements: \"))\n",
    "arr = []\n",
    "for i in range(n):\n",
    "    arr.append(int(input(\"Enter element: \")))\n",
    "\n",
    "print(\"Original Array:\", arr)\n",
    "mergeSort(arr, 0, n - 1)\n",
    "print(\"Sorted Array:\", arr)\n",
    "\n",
    "# Example input:\n",
    "# Enter number of elements: 7\n",
    "# Enter element: 38\n",
    "# Enter element: 27\n",
    "# Enter element: 43\n",
    "# Enter element: 3\n",
    "# Enter element: 9\n",
    "# Enter element: 82\n",
    "# Enter element: 10\n",
    "# Output: [3, 9, 10, 27, 38, 43, 82]\n"
   ]
  },
  {
   "cell_type": "code",
   "execution_count": null,
   "id": "abf54799-0c4d-499d-bbf6-0c14641cd670",
   "metadata": {},
   "outputs": [],
   "source": []
  }
 ],
 "metadata": {
  "kernelspec": {
   "display_name": "Python 3 (ipykernel)",
   "language": "python",
   "name": "python3"
  },
  "language_info": {
   "codemirror_mode": {
    "name": "ipython",
    "version": 3
   },
   "file_extension": ".py",
   "mimetype": "text/x-python",
   "name": "python",
   "nbconvert_exporter": "python",
   "pygments_lexer": "ipython3",
   "version": "3.11.7"
  }
 },
 "nbformat": 4,
 "nbformat_minor": 5
}
