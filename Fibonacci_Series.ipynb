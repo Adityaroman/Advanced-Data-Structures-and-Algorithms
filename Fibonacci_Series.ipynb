{
 "cells": [
  {
   "cell_type": "code",
   "execution_count": null,
   "id": "c6cb2ea1-0388-4ba4-8bf4-f9f57c8dbb1d",
   "metadata": {},
   "outputs": [],
   "source": [
    "Let's calculate the first 10 Fibonacci numbers:\n",
    "\n",
    "F(0) = 0 (Base case)\n",
    "F(1) = 1 (Base case)\n",
    "F(2) = F(1) + F(0) = 1 + 0 = 1\n",
    "F(3) = F(2) + F(1) = 1 + 1 = 2\n",
    "F(4) = F(3) + F(2) = 2 + 1 = 3\n",
    "F(5) = F(4) + F(3) = 3 + 2 = 5\n",
    "F(6) = F(5) + F(4) = 5 + 3 = 8\n",
    "F(7) = F(6) + F(5) = 8 + 5 = 13\n",
    "F(8) = F(7) + F(6) = 13 + 8 = 21\n",
    "F(9) = F(8) + F(7) = 21 + 13 = 34\n",
    "Fibonacci is a sequence starting with 0 and 1.\n",
    "Each number is the sum of the two previous numbers.\n",
    "Recursive formula: F(n) = F(n-1)+(n-2)\n"
   ]
  },
  {
   "cell_type": "code",
   "execution_count": 10,
   "id": "38623a8b-e9ad-4cb7-b1e4-1e6b522128eb",
   "metadata": {},
   "outputs": [
    {
     "name": "stdout",
     "output_type": "stream",
     "text": [
      "5\n",
      "8\n"
     ]
    }
   ],
   "source": [
    "#FOR exam this part is important only\n",
    "# Recursion for Fibonacci\n",
    "def fib_rec(n):\n",
    "    if n <= 1:   # Base cases for 0 and 1\n",
    "        return n\n",
    "    return fib_rec(n-1) + fib_rec(n-2)   # Sum of previous two numbers\n",
    "\n",
    "print(fib_rec(5))   # Output: 5 (0, 1, 1, 2, 3, 5)\n",
    "\n",
    "# Iteration for Fibonacci\n",
    "def fib_iter(n):\n",
    "    a, b = 0, 1\n",
    "    for _ in range(n):\n",
    "        a, b = b, a + b   # Update to the next Fibonacci number\n",
    "    return a\n",
    "\n",
    "print(fib_iter(6))   # Output: 8 (0, 1, 1, 2, 3, 5, 8)\n"
   ]
  },
  {
   "cell_type": "code",
   "execution_count": 2,
   "id": "8c093700-1f82-439c-8dbc-0b8c36b0b1ab",
   "metadata": {},
   "outputs": [
    {
     "name": "stdout",
     "output_type": "stream",
     "text": [
      "0 1 1 2 3 5 8 13 21 34 "
     ]
    }
   ],
   "source": [
    "# Recursive Fibonacci Function\n",
    "def fibonacci(n):\n",
    "    if n <= 1:             # Base cases: F(0) = 0, F(1) = 1\n",
    "        return n\n",
    "    return fibonacci(n-1) + fibonacci(n-2)   # Recursion: F(n) = F(n-1) + F(n-2)\n",
    "\n",
    "# Printing first 10 Fibonacci numbers\n",
    "for i in range(10):\n",
    "    print(fibonacci(i), end=\" \")\n"
   ]
  },
  {
   "cell_type": "code",
   "execution_count": 4,
   "id": "47d60fe2-b815-4ae1-8fbe-89a6b453e44d",
   "metadata": {},
   "outputs": [
    {
     "name": "stdout",
     "output_type": "stream",
     "text": [
      "5\n",
      "120\n"
     ]
    }
   ],
   "source": [
    "# Fibonacci Recursion\n",
    "def fibonacci(n):\n",
    "    if n <= 1:\n",
    "        return n\n",
    "    return fibonacci(n-1) + fibonacci(n-2)\n",
    "\n",
    "print(fibonacci(5))   # Output: 5 (0, 1, 1, 2, 3, 5)\n",
    "\n",
    "# Factorial Recursion\n",
    "def factorial(n):\n",
    "    if n == 1:\n",
    "        return 1\n",
    "    return n * factorial(n-1)\n",
    "\n",
    "print(factorial(5))   # Output: 120 (5 * 4 * 3 * 2 * 1)\n"
   ]
  },
  {
   "cell_type": "code",
   "execution_count": 6,
   "id": "400c2367-7731-40c2-82b7-2dd89f1d9a6e",
   "metadata": {},
   "outputs": [
    {
     "name": "stdout",
     "output_type": "stream",
     "text": [
      "5\n",
      "120\n"
     ]
    }
   ],
   "source": [
    "# Fibonacci Iteration\n",
    "def fibonacci_iter(n):\n",
    "    a, b = 0, 1  # Initial values for Fibonacci sequence\n",
    "    for _ in range(n):\n",
    "        a, b = b, a + b  # Update values\n",
    "    return a\n",
    "\n",
    "print(fibonacci_iter(5))  # Output: 5 (0, 1, 1, 2, 3, 5)\n",
    "\n",
    "# Factorial Iteration\n",
    "def factorial_iter(n):\n",
    "    result = 1  # Start with 1 because factorial of 0 and 1 is 1\n",
    "    for i in range(2, n+1):\n",
    "        result *= i  # Multiply result by each number up to n\n",
    "    return result\n",
    "\n",
    "print(factorial_iter(5))  # Output: 120 (5 * 4 * 3 * 2 * 1)\n"
   ]
  },
  {
   "cell_type": "code",
   "execution_count": null,
   "id": "945b7946-5391-47f4-9f21-d18377642fd6",
   "metadata": {},
   "outputs": [],
   "source": []
  }
 ],
 "metadata": {
  "kernelspec": {
   "display_name": "Python 3 (ipykernel)",
   "language": "python",
   "name": "python3"
  },
  "language_info": {
   "codemirror_mode": {
    "name": "ipython",
    "version": 3
   },
   "file_extension": ".py",
   "mimetype": "text/x-python",
   "name": "python",
   "nbconvert_exporter": "python",
   "pygments_lexer": "ipython3",
   "version": "3.11.7"
  }
 },
 "nbformat": 4,
 "nbformat_minor": 5
}
