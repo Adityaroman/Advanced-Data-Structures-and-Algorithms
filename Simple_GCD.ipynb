{
 "cells": [
  {
   "cell_type": "markdown",
   "id": "05faf791-006b-402b-b3f0-0cc4cd617864",
   "metadata": {},
   "source": [
    "Euclid's Algorithm for GCD:\n",
    "Input: Two integers, m and n.\n",
    "Step 1: If m < n, swap the values of m and n.\n",
    "Step 2: Calculate the remainder r when m is divided by n, i.e., r = m % n.\n",
    "Step 3: If r == 0, then GCD(m, n) = n, and the algorithm terminates.\n",
    "Step 4: If r != 0, repeat the process by setting m = n and n = r.\n",
    "Step 5: Return to Step 2 and continue until the remainder r becomes 0.\n"
   ]
  },
  {
   "cell_type": "code",
   "execution_count": 12,
   "id": "2d70e744-23e6-4bbf-8a30-79b34979ab54",
   "metadata": {},
   "outputs": [
    {
     "name": "stdout",
     "output_type": "stream",
     "text": [
      "GCD (750, 900): 150\n"
     ]
    }
   ],
   "source": [
    "#1. Standard Euclid's Algorithm (Recursive)\n",
    "def Euclid_gcd(m, n):\n",
    "    # Step 1: If n is 0, return m\n",
    "    if n == 0:\n",
    "        return m\n",
    "    # Step 2: Recursively call gcd with n and the remainder of m/n\n",
    "    else:\n",
    "        return Euclid_gcd(n, m % n)\n",
    "\n",
    "# Example usage\n",
    "print(\"GCD (750, 900):\", Euclid_gcd(750, 900))  # Output: 150\n"
   ]
  },
  {
   "cell_type": "code",
   "execution_count": 14,
   "id": "81057ac6-871a-4b4e-81a2-aa50c474cb98",
   "metadata": {},
   "outputs": [
    {
     "name": "stdout",
     "output_type": "stream",
     "text": [
      "GCD (750, 900): 150\n"
     ]
    }
   ],
   "source": [
    "#2. Iterative Euclid's Algorithm\n",
    "def Euclid_gcd_iterative(m, n):\n",
    "    # Step 1: Loop until n becomes 0\n",
    "    while n != 0:\n",
    "        # Step 2: Update m and n to the remainder and the previous n\n",
    "        m, n = n, m % n\n",
    "    # Step 3: When n becomes 0, m will contain the GCD\n",
    "    return m\n",
    "\n",
    "# Example usage\n",
    "print(\"GCD (750, 900):\", Euclid_gcd_iterative(750, 900))  # Output: 150\n"
   ]
  },
  {
   "cell_type": "code",
   "execution_count": 16,
   "id": "40cc3992-fdb2-46e3-b16d-dfaf3e756d84",
   "metadata": {},
   "outputs": [
    {
     "name": "stdout",
     "output_type": "stream",
     "text": [
      "GCD (750, 900): 150\n"
     ]
    }
   ],
   "source": [
    "#3. A Shorter Python Program Using List to Find GCD\n",
    "def gcd(m, n):\n",
    "    # Step 1: Find the common factors using list\n",
    "    cf = []\n",
    "    for i in range(1, min(m, n) + 1):\n",
    "        # Step 2: If i divides both m and n, append to the list\n",
    "        if (m % i) == 0 and (n % i) == 0:\n",
    "            cf.append(i)\n",
    "    # Step 3: Return the last common factor (the greatest one)\n",
    "    return cf[-1]\n",
    "\n",
    "# Example usage\n",
    "print(\"GCD (750, 900):\", gcd(750, 900))  # Output: 150\n"
   ]
  },
  {
   "cell_type": "code",
   "execution_count": 18,
   "id": "260fdb1d-b1c0-4ebb-917a-6ff2b0f336b2",
   "metadata": {},
   "outputs": [
    {
     "name": "stdout",
     "output_type": "stream",
     "text": [
      "GCD (750, 900): 150\n"
     ]
    }
   ],
   "source": [
    "#4. No Lists: Store the Result in a Variable\n",
    "def gcd(m, n):\n",
    "    # Step 1: Loop through the numbers up to the smaller of m or n\n",
    "    for i in range(1, min(m, n) + 1):\n",
    "        # Step 2: If i divides both m and n, update mrcf (maximum common factor)\n",
    "        if (m % i) == 0 and (n % i) == 0:\n",
    "            mrcf = i\n",
    "    # Step 3: Return the last found common factor (GCD)\n",
    "    return mrcf\n",
    "\n",
    "# Example usage\n",
    "print(\"GCD (750, 900):\", gcd(750, 900))  # Output: 150\n"
   ]
  },
  {
   "cell_type": "code",
   "execution_count": 20,
   "id": "dbf0cf8d-6ade-4049-962c-40f664e435b7",
   "metadata": {},
   "outputs": [
    {
     "name": "stdout",
     "output_type": "stream",
     "text": [
      "GCD (750, 900): 150\n"
     ]
    }
   ],
   "source": [
    "#5. No Lists: Using a While Loop to Find GCD\n",
    "def gcd(m, n):\n",
    "    # Step 1: Start with the smaller number and decrement\n",
    "    i = min(m, n)\n",
    "    while i > 0:\n",
    "        # Step 2: If i divides both m and n, return i as the GCD\n",
    "        if (m % i) == 0 and (n % i) == 0:\n",
    "            return i\n",
    "        # Step 3: Otherwise, decrement i\n",
    "        else:\n",
    "            i -= 1\n",
    "\n",
    "# Example usage\n",
    "print(\"GCD (750, 900):\", gcd(750, 900))  # Output: 150\n"
   ]
  },
  {
   "cell_type": "code",
   "execution_count": 2,
   "id": "3dbaf95e-e6ad-4755-b616-096f6128925d",
   "metadata": {},
   "outputs": [
    {
     "ename": "NameError",
     "evalue": "name 'n' is not defined",
     "output_type": "error",
     "traceback": [
      "\u001b[1;31m---------------------------------------------------------------------------\u001b[0m",
      "\u001b[1;31mNameError\u001b[0m                                 Traceback (most recent call last)",
      "Cell \u001b[1;32mIn[2], line 7\u001b[0m\n\u001b[0;32m      5\u001b[0m             fm\u001b[38;5;241m.\u001b[39mappend(i)\n\u001b[0;32m      6\u001b[0m fn\u001b[38;5;241m=\u001b[39m\u001b[38;5;241m0\u001b[39m\n\u001b[1;32m----> 7\u001b[0m \u001b[38;5;28;01mfor\u001b[39;00m j \u001b[38;5;129;01min\u001b[39;00m \u001b[38;5;28mrange\u001b[39m(\u001b[38;5;241m1\u001b[39m,n\u001b[38;5;241m+\u001b[39m\u001b[38;5;241m1\u001b[39m):\n\u001b[0;32m      8\u001b[0m     \u001b[38;5;28;01mif\u001b[39;00m (n\u001b[38;5;241m%\u001b[39mi)\u001b[38;5;241m==\u001b[39m\u001b[38;5;241m0\u001b[39m:\n\u001b[0;32m      9\u001b[0m         fn\u001b[38;5;241m.\u001b[39mappend(j)\n",
      "\u001b[1;31mNameError\u001b[0m: name 'n' is not defined"
     ]
    }
   ],
   "source": [
    "def simple_gcd(m,n):\n",
    "    fm=[]\n",
    "    for i in range(1,m+n):\n",
    "        if (m%i)==0:\n",
    "            fm.append(i)\n",
    "fn=0\n",
    "for j in range(1,n+1):\n",
    "    if (n%i)==0:\n",
    "        fn.append(j)\n",
    "cf=[]\n",
    "for f in fm:\n",
    "    if f in fn:\n",
    "        cf.append(f)\n",
    "    return(cf[-1])"
   ]
  },
  {
   "cell_type": "code",
   "execution_count": 4,
   "id": "f593a3b8-8835-4100-8928-a3263c24cf24",
   "metadata": {},
   "outputs": [
    {
     "name": "stdout",
     "output_type": "stream",
     "text": [
      "GCD: 6\n"
     ]
    }
   ],
   "source": [
    "def simple_gcd(m, n):\n",
    "    # Ensure both numbers are positive\n",
    "    m, n = abs(m), abs(n)\n",
    "    # Find the smaller of the two numbers\n",
    "    smaller = min(m, n)\n",
    "    \n",
    "    # Iterate from the smaller number down to 1\n",
    "    for i in range(smaller, 0, -1):\n",
    "        if m % i == 0 and n % i == 0:\n",
    "            return i  # Return the greatest common divisor\n",
    "\n",
    "# Example usage:\n",
    "result = simple_gcd(48, 18)\n",
    "print(\"GCD:\", result)\n",
    "\n"
   ]
  },
  {
   "cell_type": "code",
   "execution_count": null,
   "id": "3b289e32-f45d-43f1-b0d7-833153e23fe5",
   "metadata": {},
   "outputs": [],
   "source": [
    "def gcd(m,n):\n",
    "    fm=[]\n",
    "    fn=[]\n",
    "    for i in range(1,n+1):\n",
    "        if m%i==0:\n",
    "            fm.append(i)\n",
    "    print(fm)\n",
    "    "
   ]
  },
  {
   "cell_type": "code",
   "execution_count": 6,
   "id": "f23384b4-7eb5-467c-a467-6fb31a683ed6",
   "metadata": {},
   "outputs": [
    {
     "data": {
      "text/plain": [
       "7"
      ]
     },
     "execution_count": 6,
     "metadata": {},
     "output_type": "execute_result"
    }
   ],
   "source": [
    "def gcd(m,n):\n",
    "    cf=[]\n",
    "    for i in range(1,min(m,n)+1):\n",
    "        if(m%i) ==0 and (n%i) ==0:\n",
    "            cf.append(i)\n",
    "    return(cf[-1])\n",
    "gcd(14,63)"
   ]
  },
  {
   "cell_type": "code",
   "execution_count": 10,
   "id": "ed4fe513-f531-406e-b048-ea479732300c",
   "metadata": {},
   "outputs": [
    {
     "data": {
      "text/plain": [
       "7"
      ]
     },
     "execution_count": 10,
     "metadata": {},
     "output_type": "execute_result"
    }
   ],
   "source": [
    "def gcd(m,n):\n",
    "    for i in range(1,min(m,n)+1):\n",
    "        if (m%i)==0 and (n%i)==0:\n",
    "            mrcf=i\n",
    "    return(mrcf)\n",
    "gcd(14,63)"
   ]
  },
  {
   "cell_type": "code",
   "execution_count": null,
   "id": "4a588ed0-e573-46c1-a3a7-339f8a9d47be",
   "metadata": {},
   "outputs": [],
   "source": []
  }
 ],
 "metadata": {
  "kernelspec": {
   "display_name": "Python 3 (ipykernel)",
   "language": "python",
   "name": "python3"
  },
  "language_info": {
   "codemirror_mode": {
    "name": "ipython",
    "version": 3
   },
   "file_extension": ".py",
   "mimetype": "text/x-python",
   "name": "python",
   "nbconvert_exporter": "python",
   "pygments_lexer": "ipython3",
   "version": "3.11.7"
  }
 },
 "nbformat": 4,
 "nbformat_minor": 5
}
