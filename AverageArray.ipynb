{
 "cells": [
  {
   "cell_type": "code",
   "execution_count": 13,
   "id": "8d9d3087-4a8a-4b8c-b25f-886723c2230c",
   "metadata": {},
   "outputs": [
    {
     "name": "stdout",
     "output_type": "stream",
     "text": [
      "sum: 34\n",
      "Average: 4.857142857142857\n"
     ]
    }
   ],
   "source": [
    "import array as ar\n",
    "x = ar.array('i',[3,5,2,7,8,4,5])\n",
    "type(x)\n",
    "x_sum = sum(x)\n",
    "print(\"sum:\", x_sum)\n",
    "length = len(x)\n",
    "average = x_sum/length\n",
    "print(\"Average:\", average)"
   ]
  },
  {
   "cell_type": "code",
   "execution_count": 23,
   "id": "95731fc0-3bc4-43b4-8d2b-ca1c1b6ebc37",
   "metadata": {},
   "outputs": [
    {
     "name": "stdout",
     "output_type": "stream",
     "text": [
      "<class 'numpy.ndarray'>\n",
      "sum: 34\n",
      "Average: 4.857142857142857\n"
     ]
    }
   ],
   "source": [
    "import numpy as np\n",
    "x = np.array([3,5,2,7,8,4,5])\n",
    "print(type(x))\n",
    "x_sum = sum(x)\n",
    "print(\"sum:\", x_sum)\n",
    "length = len(x)\n",
    "average = x_sum/length\n",
    "print(\"Average:\", average)"
   ]
  },
  {
   "cell_type": "code",
   "execution_count": 21,
   "id": "7e97d4ed-9eed-4b01-be6d-da236b1d6a05",
   "metadata": {},
   "outputs": [
    {
     "name": "stdout",
     "output_type": "stream",
     "text": [
      "[5 4 8 7 2 5 3]\n"
     ]
    }
   ],
   "source": [
    "import numpy as np\n",
    "x = np.array([3,5,2,7,8,4,5])\n",
    "type(x)\n",
    "print(x[::-1]) #slicing method"
   ]
  },
  {
   "cell_type": "code",
   "execution_count": 35,
   "id": "4278d56e-a314-4481-bb8d-5f9c4041271e",
   "metadata": {},
   "outputs": [
    {
     "name": "stdout",
     "output_type": "stream",
     "text": [
      "5\n",
      "4\n",
      "8\n",
      "7\n",
      "2\n",
      "5\n",
      "3\n"
     ]
    }
   ],
   "source": [
    "import numpy as np\n",
    "x = np.array([3,5,2,7,8,4,5,])\n",
    "n = len(x)\n",
    "for i in range (n-1,-1,-1):\n",
    "    print(x[i])"
   ]
  },
  {
   "cell_type": "code",
   "execution_count": 37,
   "id": "8b6500c6-8b26-442b-8cfd-f46330b22e62",
   "metadata": {},
   "outputs": [
    {
     "name": "stdout",
     "output_type": "stream",
     "text": [
      "[5, 4, 8, 7, 2, 5, 3]\n"
     ]
    }
   ],
   "source": [
    "import numpy as np\n",
    "x = np.array([3,5,2,7,8,4,5,])\n",
    "n=len(x)\n",
    "new_arr=[]\n",
    "for i in range(n-1,-1,-1):\n",
    "    new_arr.append(x[i])\n",
    "print(new_arr)\n"
   ]
  },
  {
   "cell_type": "code",
   "execution_count": null,
   "id": "7323d5e3-a8c0-4ced-905f-0c4833cbf871",
   "metadata": {},
   "outputs": [],
   "source": []
  }
 ],
 "metadata": {
  "kernelspec": {
   "display_name": "Python 3 (ipykernel)",
   "language": "python",
   "name": "python3"
  },
  "language_info": {
   "codemirror_mode": {
    "name": "ipython",
    "version": 3
   },
   "file_extension": ".py",
   "mimetype": "text/x-python",
   "name": "python",
   "nbconvert_exporter": "python",
   "pygments_lexer": "ipython3",
   "version": "3.11.7"
  }
 },
 "nbformat": 4,
 "nbformat_minor": 5
}
